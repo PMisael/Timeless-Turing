{
 "cells": [
  {
   "cell_type": "markdown",
   "metadata": {},
   "source": [
    "# Extraccion de Datos\n",
    "### Videos con las siguientes poses:\n",
    "* *Brazos cruzados*\n",
    "* *Posición fetal*\n",
    "* *Posición firmes*\n",
    "* *Otro*"
   ]
  },
  {
   "cell_type": "markdown",
   "metadata": {},
   "source": [
    "## Preparar rutas de videos"
   ]
  },
  {
   "cell_type": "code",
   "execution_count": 1,
   "metadata": {},
   "outputs": [
    {
     "name": "stdout",
     "output_type": "stream",
     "text": [
      "[PosixPath('/home/misa/GitHub/Timeless-Turing/data/processed_videos/otro.mp4'), PosixPath('/home/misa/GitHub/Timeless-Turing/data/processed_videos/posicion_fetal.mp4'), PosixPath('/home/misa/GitHub/Timeless-Turing/data/processed_videos/firmes.mp4'), PosixPath('/home/misa/GitHub/Timeless-Turing/data/processed_videos/brazos_cruzados.mp4')]\n",
      "/home/misa/GitHub/Timeless-Turing/data/processed_videos/otro.mp4 otro\n",
      "/home/misa/GitHub/Timeless-Turing/data/processed_videos/posicion_fetal.mp4 posicion_fetal\n",
      "/home/misa/GitHub/Timeless-Turing/data/processed_videos/firmes.mp4 firmes\n",
      "/home/misa/GitHub/Timeless-Turing/data/processed_videos/brazos_cruzados.mp4 brazos_cruzados\n",
      "/home/misa/GitHub/Timeless-Turing/data\n"
     ]
    }
   ],
   "source": [
    "from pathlib import Path\n",
    "#\n",
    "#\n",
    "CARPETA = Path(\"../data\").resolve()\n",
    "\n",
    "videos = [p.resolve() for p in CARPETA.rglob(\"*.mp4\") if p.stem!=\"Prueba\"]\n",
    "print(videos)\n",
    "for video in videos:\n",
    "    print(video,video.stem)\n",
    "print(CARPETA)"
   ]
  },
  {
   "cell_type": "markdown",
   "metadata": {},
   "source": [
    "## Extraccion de frames"
   ]
  },
  {
   "cell_type": "code",
   "execution_count": 2,
   "metadata": {},
   "outputs": [],
   "source": [
    "nuevacarpeta=CARPETA/\"frames_csv\"\n",
    "Path(nuevacarpeta).mkdir(parents=True, exist_ok=True)"
   ]
  },
  {
   "cell_type": "code",
   "execution_count": null,
   "metadata": {},
   "outputs": [
    {
     "name": "stdout",
     "output_type": "stream",
     "text": [
      "\n",
      "\n",
      "Procesando video:  /home/misa/GitHub/Timeless-Turing/data/processed_videos/otro.mp4 con etiqueta OTRO, guardando en /home/misa/GitHub/Timeless-Turing/data/frames_csv/otro.csv\n",
      "Total de frames: 2926\n"
     ]
    },
    {
     "name": "stderr",
     "output_type": "stream",
     "text": [
      "I0000 00:00:1752463581.957913   26969 gl_context_egl.cc:85] Successfully initialized EGL. Major : 1 Minor: 5\n",
      "I0000 00:00:1752463581.975303   27574 gl_context.cc:369] GL version: 3.2 (OpenGL ES 3.2 NVIDIA 550.144.03), renderer: NVIDIA GeForce RTX 4060 Laptop GPU/PCIe/SSE2\n",
      "W0000 00:00:1752463582.013046   27542 inference_feedback_manager.cc:114] Feedback manager requires a model with a single signature inference. Disabling support for feedback tensors.\n",
      "W0000 00:00:1752463582.077542   27566 inference_feedback_manager.cc:114] Feedback manager requires a model with a single signature inference. Disabling support for feedback tensors.\n"
     ]
    },
    {
     "name": "stdout",
     "output_type": "stream",
     "text": [
      "CSV guardado con 265 fotogramas\n",
      "\n",
      "\n",
      "Procesando video:  /home/misa/GitHub/Timeless-Turing/data/processed_videos/posicion_fetal.mp4 con etiqueta POSICION_FETAL, guardando en /home/misa/GitHub/Timeless-Turing/data/frames_csv/posicion_fetal.csv\n",
      "Total de frames: 1534\n"
     ]
    },
    {
     "name": "stderr",
     "output_type": "stream",
     "text": [
      "I0000 00:00:1752463596.088739   26969 gl_context_egl.cc:85] Successfully initialized EGL. Major : 1 Minor: 5\n",
      "I0000 00:00:1752463596.110576   27626 gl_context.cc:369] GL version: 3.2 (OpenGL ES 3.2 NVIDIA 550.144.03), renderer: NVIDIA GeForce RTX 4060 Laptop GPU/PCIe/SSE2\n",
      "W0000 00:00:1752463596.143390   27601 inference_feedback_manager.cc:114] Feedback manager requires a model with a single signature inference. Disabling support for feedback tensors.\n",
      "W0000 00:00:1752463596.212652   27607 inference_feedback_manager.cc:114] Feedback manager requires a model with a single signature inference. Disabling support for feedback tensors.\n"
     ]
    },
    {
     "name": "stdout",
     "output_type": "stream",
     "text": [
      "CSV guardado con 138 fotogramas\n",
      "\n",
      "\n",
      "Procesando video:  /home/misa/GitHub/Timeless-Turing/data/processed_videos/firmes.mp4 con etiqueta FIRMES, guardando en /home/misa/GitHub/Timeless-Turing/data/frames_csv/firmes.csv\n",
      "Total de frames: 2300\n"
     ]
    },
    {
     "name": "stderr",
     "output_type": "stream",
     "text": [
      "I0000 00:00:1752463605.078694   26969 gl_context_egl.cc:85] Successfully initialized EGL. Major : 1 Minor: 5\n",
      "I0000 00:00:1752463605.108797   27679 gl_context.cc:369] GL version: 3.2 (OpenGL ES 3.2 NVIDIA 550.144.03), renderer: NVIDIA GeForce RTX 4060 Laptop GPU/PCIe/SSE2\n",
      "W0000 00:00:1752463605.142787   27655 inference_feedback_manager.cc:114] Feedback manager requires a model with a single signature inference. Disabling support for feedback tensors.\n",
      "W0000 00:00:1752463605.197595   27654 inference_feedback_manager.cc:114] Feedback manager requires a model with a single signature inference. Disabling support for feedback tensors.\n"
     ]
    },
    {
     "name": "stdout",
     "output_type": "stream",
     "text": [
      "CSV guardado con 208 fotogramas\n",
      "\n",
      "\n",
      "Procesando video:  /home/misa/GitHub/Timeless-Turing/data/processed_videos/brazos_cruzados.mp4 con etiqueta BRAZOS_CRUZADOS, guardando en /home/misa/GitHub/Timeless-Turing/data/frames_csv/brazos_cruzados.csv\n",
      "Total de frames: 2131\n"
     ]
    },
    {
     "name": "stderr",
     "output_type": "stream",
     "text": [
      "I0000 00:00:1752463618.358971   26969 gl_context_egl.cc:85] Successfully initialized EGL. Major : 1 Minor: 5\n",
      "I0000 00:00:1752463618.378054   27736 gl_context.cc:369] GL version: 3.2 (OpenGL ES 3.2 NVIDIA 550.144.03), renderer: NVIDIA GeForce RTX 4060 Laptop GPU/PCIe/SSE2\n",
      "W0000 00:00:1752463618.409292   27708 inference_feedback_manager.cc:114] Feedback manager requires a model with a single signature inference. Disabling support for feedback tensors.\n",
      "W0000 00:00:1752463618.488362   27722 inference_feedback_manager.cc:114] Feedback manager requires a model with a single signature inference. Disabling support for feedback tensors.\n"
     ]
    },
    {
     "name": "stdout",
     "output_type": "stream",
     "text": [
      "CSV guardado con 193 fotogramas\n"
     ]
    }
   ],
   "source": [
    "from tests.ExtraeFrame import Video\n",
    "#\n",
    "#Crear carpeta para guardar CSV\n",
    "CARPETA_CSV=CARPETA/\"frames_csv\"\n",
    "Path(nuevacarpeta).mkdir(parents=True, exist_ok=True)\n",
    "#\n",
    "for path in videos:\n",
    "    label=path.stem.upper()\n",
    "    ruta_salida=str(CARPETA_CSV/path.stem)+\".csv\"\n",
    "\n",
    "    print(f'\\n\\nProcesando video:  {str(path)} con etiqueta {label}, guardando en {ruta_salida}')\n",
    "    vid=Video(path)\n",
    "    vid.process(label,ruta_salida,step=10,reproduce=True)"
   ]
  }
 ],
 "metadata": {
  "kernelspec": {
   "display_name": "timelessTuring",
   "language": "python",
   "name": "python3"
  },
  "language_info": {
   "codemirror_mode": {
    "name": "ipython",
    "version": 3
   },
   "file_extension": ".py",
   "mimetype": "text/x-python",
   "name": "python",
   "nbconvert_exporter": "python",
   "pygments_lexer": "ipython3",
   "version": "3.10.16"
  }
 },
 "nbformat": 4,
 "nbformat_minor": 2
}
