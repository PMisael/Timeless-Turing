{
 "cells": [
  {
   "cell_type": "markdown",
   "metadata": {},
   "source": [
    "# Extraccion de Datos\n",
    "### Videos con las siguientes poses:\n",
    "* *Brazos cruzados*\n",
    "* *Posición fetal*\n",
    "* *Posición firmes*\n",
    "* *Otro*"
   ]
  },
  {
   "cell_type": "markdown",
   "metadata": {},
   "source": [
    "## Preparar rutas de videos"
   ]
  },
  {
   "cell_type": "code",
   "execution_count": 1,
   "metadata": {},
   "outputs": [
    {
     "name": "stdout",
     "output_type": "stream",
     "text": [
      "[PosixPath('/home/misa/GitHub/Timeless-Turing/data/processed_videos/train_val/OTRO.mp4'), PosixPath('/home/misa/GitHub/Timeless-Turing/data/processed_videos/train_val/BRAZOS_CRUZADOS.mp4'), PosixPath('/home/misa/GitHub/Timeless-Turing/data/processed_videos/train_val/FIRMES.mp4'), PosixPath('/home/misa/GitHub/Timeless-Turing/data/processed_videos/train_val/POSICION_FETAL.mp4'), PosixPath('/home/misa/GitHub/Timeless-Turing/data/processed_videos/test/OTRO.mp4'), PosixPath('/home/misa/GitHub/Timeless-Turing/data/processed_videos/test/BRAZOS_CRUZADOS.mp4'), PosixPath('/home/misa/GitHub/Timeless-Turing/data/processed_videos/test/FIRMES.mp4'), PosixPath('/home/misa/GitHub/Timeless-Turing/data/processed_videos/test/POSICION_FETAL.mp4')]\n",
      "/home/misa/GitHub/Timeless-Turing/data/processed_videos/train_val/OTRO.mp4 OTRO\n",
      "/home/misa/GitHub/Timeless-Turing/data/processed_videos/train_val/BRAZOS_CRUZADOS.mp4 BRAZOS_CRUZADOS\n",
      "/home/misa/GitHub/Timeless-Turing/data/processed_videos/train_val/FIRMES.mp4 FIRMES\n",
      "/home/misa/GitHub/Timeless-Turing/data/processed_videos/train_val/POSICION_FETAL.mp4 POSICION_FETAL\n",
      "/home/misa/GitHub/Timeless-Turing/data/processed_videos/test/OTRO.mp4 OTRO\n",
      "/home/misa/GitHub/Timeless-Turing/data/processed_videos/test/BRAZOS_CRUZADOS.mp4 BRAZOS_CRUZADOS\n",
      "/home/misa/GitHub/Timeless-Turing/data/processed_videos/test/FIRMES.mp4 FIRMES\n",
      "/home/misa/GitHub/Timeless-Turing/data/processed_videos/test/POSICION_FETAL.mp4 POSICION_FETAL\n"
     ]
    }
   ],
   "source": [
    "from pathlib import Path\n",
    "#\n",
    "#\n",
    "CARPETA = Path(\"../data\").resolve()\n",
    "\n",
    "videos = [p.resolve() for p in (CARPETA/\"processed_videos\").rglob(\"*.mp4\") if p.stem!=\"Prueba\"]\n",
    "print(videos)\n",
    "for video in videos:\n",
    "    print(video,video.stem)"
   ]
  },
  {
   "cell_type": "markdown",
   "metadata": {},
   "source": [
    "## Extraccion de frames"
   ]
  },
  {
   "cell_type": "code",
   "execution_count": 3,
   "metadata": {},
   "outputs": [
    {
     "name": "stdout",
     "output_type": "stream",
     "text": [
      "\n",
      "\n",
      "Procesando video:  /home/misa/GitHub/Timeless-Turing/data/processed_videos/train_val/OTRO.mp4 con etiqueta OTRO, guardando en /home/misa/GitHub/Timeless-Turing/data/train_val_csv/OTRO.csv\n",
      "Total de frames: 3216\n"
     ]
    },
    {
     "name": "stderr",
     "output_type": "stream",
     "text": [
      "I0000 00:00:1752611493.980773   17541 gl_context_egl.cc:85] Successfully initialized EGL. Major : 1 Minor: 5\n",
      "I0000 00:00:1752611493.997125   18275 gl_context.cc:369] GL version: 3.2 (OpenGL ES 3.2 NVIDIA 550.144.03), renderer: NVIDIA GeForce RTX 4060 Laptop GPU/PCIe/SSE2\n",
      "W0000 00:00:1752611494.034893   18253 inference_feedback_manager.cc:114] Feedback manager requires a model with a single signature inference. Disabling support for feedback tensors.\n",
      "W0000 00:00:1752611494.095353   18259 inference_feedback_manager.cc:114] Feedback manager requires a model with a single signature inference. Disabling support for feedback tensors.\n"
     ]
    },
    {
     "name": "stdout",
     "output_type": "stream",
     "text": [
      "CSV guardado con 536 fotogramas\n",
      "\n",
      "\n",
      "Procesando video:  /home/misa/GitHub/Timeless-Turing/data/processed_videos/train_val/BRAZOS_CRUZADOS.mp4 con etiqueta BRAZOS_CRUZADOS, guardando en /home/misa/GitHub/Timeless-Turing/data/train_val_csv/BRAZOS_CRUZADOS.csv\n",
      "Total de frames: 4541\n"
     ]
    },
    {
     "name": "stderr",
     "output_type": "stream",
     "text": [
      "I0000 00:00:1752611522.236368   17541 gl_context_egl.cc:85] Successfully initialized EGL. Major : 1 Minor: 5\n",
      "I0000 00:00:1752611522.259532   18350 gl_context.cc:369] GL version: 3.2 (OpenGL ES 3.2 NVIDIA 550.144.03), renderer: NVIDIA GeForce RTX 4060 Laptop GPU/PCIe/SSE2\n",
      "W0000 00:00:1752611522.294047   18321 inference_feedback_manager.cc:114] Feedback manager requires a model with a single signature inference. Disabling support for feedback tensors.\n",
      "W0000 00:00:1752611522.360381   18342 inference_feedback_manager.cc:114] Feedback manager requires a model with a single signature inference. Disabling support for feedback tensors.\n"
     ]
    },
    {
     "name": "stdout",
     "output_type": "stream",
     "text": [
      "CSV guardado con 756 fotogramas\n",
      "\n",
      "\n",
      "Procesando video:  /home/misa/GitHub/Timeless-Turing/data/processed_videos/train_val/FIRMES.mp4 con etiqueta FIRMES, guardando en /home/misa/GitHub/Timeless-Turing/data/train_val_csv/FIRMES.csv\n",
      "Total de frames: 2124\n"
     ]
    },
    {
     "name": "stderr",
     "output_type": "stream",
     "text": [
      "I0000 00:00:1752611561.618521   17541 gl_context_egl.cc:85] Successfully initialized EGL. Major : 1 Minor: 5\n",
      "I0000 00:00:1752611561.640681   18420 gl_context.cc:369] GL version: 3.2 (OpenGL ES 3.2 NVIDIA 550.144.03), renderer: NVIDIA GeForce RTX 4060 Laptop GPU/PCIe/SSE2\n",
      "W0000 00:00:1752611561.675881   18390 inference_feedback_manager.cc:114] Feedback manager requires a model with a single signature inference. Disabling support for feedback tensors.\n",
      "W0000 00:00:1752611561.731118   18419 inference_feedback_manager.cc:114] Feedback manager requires a model with a single signature inference. Disabling support for feedback tensors.\n"
     ]
    },
    {
     "name": "stdout",
     "output_type": "stream",
     "text": [
      "CSV guardado con 353 fotogramas\n",
      "\n",
      "\n",
      "Procesando video:  /home/misa/GitHub/Timeless-Turing/data/processed_videos/train_val/POSICION_FETAL.mp4 con etiqueta POSICION_FETAL, guardando en /home/misa/GitHub/Timeless-Turing/data/train_val_csv/POSICION_FETAL.csv\n",
      "Total de frames: 2668\n"
     ]
    },
    {
     "name": "stderr",
     "output_type": "stream",
     "text": [
      "I0000 00:00:1752611580.243633   17541 gl_context_egl.cc:85] Successfully initialized EGL. Major : 1 Minor: 5\n",
      "I0000 00:00:1752611580.261386   18484 gl_context.cc:369] GL version: 3.2 (OpenGL ES 3.2 NVIDIA 550.144.03), renderer: NVIDIA GeForce RTX 4060 Laptop GPU/PCIe/SSE2\n",
      "W0000 00:00:1752611580.297492   18454 inference_feedback_manager.cc:114] Feedback manager requires a model with a single signature inference. Disabling support for feedback tensors.\n",
      "W0000 00:00:1752611580.355186   18480 inference_feedback_manager.cc:114] Feedback manager requires a model with a single signature inference. Disabling support for feedback tensors.\n"
     ]
    },
    {
     "name": "stdout",
     "output_type": "stream",
     "text": [
      "CSV guardado con 440 fotogramas\n",
      "\n",
      "\n",
      "Procesando video:  /home/misa/GitHub/Timeless-Turing/data/processed_videos/test/OTRO.mp4 con etiqueta OTRO, guardando en /home/misa/GitHub/Timeless-Turing/data/test_csv/OTRO.csv\n",
      "Total de frames: 2926\n"
     ]
    },
    {
     "name": "stderr",
     "output_type": "stream",
     "text": [
      "I0000 00:00:1752611603.668216   17541 gl_context_egl.cc:85] Successfully initialized EGL. Major : 1 Minor: 5\n",
      "I0000 00:00:1752611603.693196   18540 gl_context.cc:369] GL version: 3.2 (OpenGL ES 3.2 NVIDIA 550.144.03), renderer: NVIDIA GeForce RTX 4060 Laptop GPU/PCIe/SSE2\n",
      "W0000 00:00:1752611603.727409   18509 inference_feedback_manager.cc:114] Feedback manager requires a model with a single signature inference. Disabling support for feedback tensors.\n",
      "W0000 00:00:1752611603.778714   18534 inference_feedback_manager.cc:114] Feedback manager requires a model with a single signature inference. Disabling support for feedback tensors.\n"
     ]
    },
    {
     "name": "stdout",
     "output_type": "stream",
     "text": [
      "CSV guardado con 487 fotogramas\n",
      "\n",
      "\n",
      "Procesando video:  /home/misa/GitHub/Timeless-Turing/data/processed_videos/test/BRAZOS_CRUZADOS.mp4 con etiqueta BRAZOS_CRUZADOS, guardando en /home/misa/GitHub/Timeless-Turing/data/test_csv/BRAZOS_CRUZADOS.csv\n",
      "Total de frames: 2131\n"
     ]
    },
    {
     "name": "stderr",
     "output_type": "stream",
     "text": [
      "I0000 00:00:1752611628.704150   17541 gl_context_egl.cc:85] Successfully initialized EGL. Major : 1 Minor: 5\n",
      "I0000 00:00:1752611628.737205   18594 gl_context.cc:369] GL version: 3.2 (OpenGL ES 3.2 NVIDIA 550.144.03), renderer: NVIDIA GeForce RTX 4060 Laptop GPU/PCIe/SSE2\n",
      "W0000 00:00:1752611628.780915   18562 inference_feedback_manager.cc:114] Feedback manager requires a model with a single signature inference. Disabling support for feedback tensors.\n",
      "W0000 00:00:1752611628.845361   18587 inference_feedback_manager.cc:114] Feedback manager requires a model with a single signature inference. Disabling support for feedback tensors.\n"
     ]
    },
    {
     "name": "stdout",
     "output_type": "stream",
     "text": [
      "CSV guardado con 354 fotogramas\n",
      "\n",
      "\n",
      "Procesando video:  /home/misa/GitHub/Timeless-Turing/data/processed_videos/test/FIRMES.mp4 con etiqueta FIRMES, guardando en /home/misa/GitHub/Timeless-Turing/data/test_csv/FIRMES.csv\n",
      "Total de frames: 2300\n"
     ]
    },
    {
     "name": "stderr",
     "output_type": "stream",
     "text": [
      "I0000 00:00:1752611650.563675   17541 gl_context_egl.cc:85] Successfully initialized EGL. Major : 1 Minor: 5\n",
      "I0000 00:00:1752611650.584736   18652 gl_context.cc:369] GL version: 3.2 (OpenGL ES 3.2 NVIDIA 550.144.03), renderer: NVIDIA GeForce RTX 4060 Laptop GPU/PCIe/SSE2\n",
      "W0000 00:00:1752611650.620373   18623 inference_feedback_manager.cc:114] Feedback manager requires a model with a single signature inference. Disabling support for feedback tensors.\n",
      "W0000 00:00:1752611650.689655   18639 inference_feedback_manager.cc:114] Feedback manager requires a model with a single signature inference. Disabling support for feedback tensors.\n"
     ]
    },
    {
     "name": "stdout",
     "output_type": "stream",
     "text": [
      "CSV guardado con 383 fotogramas\n",
      "\n",
      "\n",
      "Procesando video:  /home/misa/GitHub/Timeless-Turing/data/processed_videos/test/POSICION_FETAL.mp4 con etiqueta POSICION_FETAL, guardando en /home/misa/GitHub/Timeless-Turing/data/test_csv/POSICION_FETAL.csv\n",
      "Total de frames: 1534\n"
     ]
    },
    {
     "name": "stderr",
     "output_type": "stream",
     "text": [
      "I0000 00:00:1752611674.379449   17541 gl_context_egl.cc:85] Successfully initialized EGL. Major : 1 Minor: 5\n",
      "I0000 00:00:1752611674.402744   18708 gl_context.cc:369] GL version: 3.2 (OpenGL ES 3.2 NVIDIA 550.144.03), renderer: NVIDIA GeForce RTX 4060 Laptop GPU/PCIe/SSE2\n",
      "W0000 00:00:1752611674.437416   18684 inference_feedback_manager.cc:114] Feedback manager requires a model with a single signature inference. Disabling support for feedback tensors.\n",
      "W0000 00:00:1752611674.499647   18676 inference_feedback_manager.cc:114] Feedback manager requires a model with a single signature inference. Disabling support for feedback tensors.\n"
     ]
    },
    {
     "name": "stdout",
     "output_type": "stream",
     "text": [
      "CSV guardado con 242 fotogramas\n"
     ]
    }
   ],
   "source": [
    "from ExtraeFrame import Video\n",
    "\n",
    "# Datos de Entrenamiento y Validación\n",
    "CARPETA_TRAIN_VAL=CARPETA/\"train_val_csv\"\n",
    "Path(CARPETA_TRAIN_VAL).mkdir(parents=True, exist_ok=True)\n",
    "\n",
    "# Datos de Entrenamiento y Validación\n",
    "CARPETA_TEST=CARPETA/\"test_csv\"\n",
    "Path(CARPETA_TEST).mkdir(parents=True, exist_ok=True)\n",
    "#\n",
    "# Extracción de frames\n",
    "for path in videos:\n",
    "    label=path.stem.upper()\n",
    "    #\n",
    "    ruta_salida=str((CARPETA_TRAIN_VAL if path.parent.stem=='train_val' else CARPETA_TEST)/path.stem)+\".csv\"\n",
    "\n",
    "    print(f'\\n\\nProcesando video:  {str(path)} con etiqueta {label}, guardando en {ruta_salida}')\n",
    "    vid=Video(path)\n",
    "    vid.process(label,ruta_salida,step=5,reproduce=True)"
   ]
  }
 ],
 "metadata": {
  "kernelspec": {
   "display_name": "timelessTuring",
   "language": "python",
   "name": "python3"
  },
  "language_info": {
   "codemirror_mode": {
    "name": "ipython",
    "version": 3
   },
   "file_extension": ".py",
   "mimetype": "text/x-python",
   "name": "python",
   "nbconvert_exporter": "python",
   "pygments_lexer": "ipython3",
   "version": "3.10.16"
  }
 },
 "nbformat": 4,
 "nbformat_minor": 2
}
