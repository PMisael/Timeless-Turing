{
 "cells": [
  {
   "cell_type": "markdown",
   "metadata": {},
   "source": [
    "# Red neuronal para predecir poses"
   ]
  },
  {
   "cell_type": "markdown",
   "metadata": {},
   "source": [
    "## Importar librerias"
   ]
  },
  {
   "cell_type": "code",
   "execution_count": 1,
   "metadata": {},
   "outputs": [
    {
     "name": "stderr",
     "output_type": "stream",
     "text": [
      "2025-07-13 22:02:55.428329: I tensorflow/core/util/port.cc:153] oneDNN custom operations are on. You may see slightly different numerical results due to floating-point round-off errors from different computation orders. To turn them off, set the environment variable `TF_ENABLE_ONEDNN_OPTS=0`.\n",
      "2025-07-13 22:02:55.435937: E external/local_xla/xla/stream_executor/cuda/cuda_fft.cc:467] Unable to register cuFFT factory: Attempting to register factory for plugin cuFFT when one has already been registered\n",
      "WARNING: All log messages before absl::InitializeLog() is called are written to STDERR\n",
      "E0000 00:00:1752465775.444905  117366 cuda_dnn.cc:8579] Unable to register cuDNN factory: Attempting to register factory for plugin cuDNN when one has already been registered\n",
      "E0000 00:00:1752465775.447478  117366 cuda_blas.cc:1407] Unable to register cuBLAS factory: Attempting to register factory for plugin cuBLAS when one has already been registered\n",
      "W0000 00:00:1752465775.454241  117366 computation_placer.cc:177] computation placer already registered. Please check linkage and avoid linking the same target more than once.\n",
      "W0000 00:00:1752465775.454257  117366 computation_placer.cc:177] computation placer already registered. Please check linkage and avoid linking the same target more than once.\n",
      "W0000 00:00:1752465775.454258  117366 computation_placer.cc:177] computation placer already registered. Please check linkage and avoid linking the same target more than once.\n",
      "W0000 00:00:1752465775.454259  117366 computation_placer.cc:177] computation placer already registered. Please check linkage and avoid linking the same target more than once.\n",
      "2025-07-13 22:02:55.456642: I tensorflow/core/platform/cpu_feature_guard.cc:210] This TensorFlow binary is optimized to use available CPU instructions in performance-critical operations.\n",
      "To enable the following instructions: AVX2 AVX_VNNI FMA, in other operations, rebuild TensorFlow with the appropriate compiler flags.\n"
     ]
    }
   ],
   "source": [
    "import pandas as pd\n",
    "import numpy as np\n",
    "from pathlib import Path\n",
    "from matplotlib import pyplot as plt\n",
    "\n",
    "from keras import layers,callbacks\n",
    "from keras.models import Sequential, load_model\n",
    "from keras.optimizers import Adam\n",
    "\n",
    "from sklearn.preprocessing import LabelBinarizer\n",
    "from sklearn.model_selection import train_test_split\n",
    "from sklearn.metrics import confusion_matrix, classification_report"
   ]
  },
  {
   "cell_type": "markdown",
   "metadata": {},
   "source": [
    "## Preparar datos"
   ]
  },
  {
   "cell_type": "code",
   "execution_count": 2,
   "metadata": {},
   "outputs": [],
   "source": [
    "CARPETA=Path(\"../data/frames_csv\")\n",
    "Salida=Path(\"posiciones.csv\")\n",
    "#\n",
    "# Unir los csvs para hacer uno solo\n",
    "csvs = [p.resolve() for p in CARPETA.rglob(\"*.csv\") if p.stem!=Salida]\n",
    "#print(csvs)\n",
    "df=pd.concat((pd.read_csv(f) for f in csvs),ignore_index=True)\n",
    "df.to_csv(CARPETA/Salida, index=False, float_format=\"%.6f\")\n",
    "\n",
    "#print(df)\n",
    "\n",
    "X= df.drop(columns=['label'])\n",
    "Y= df['label']\n",
    "\n",
    "poses_lb=LabelBinarizer()\n",
    "Y_one_hot= poses_lb.fit_transform(Y)\n",
    "#print(Y_one_hot)"
   ]
  },
  {
   "cell_type": "markdown",
   "metadata": {},
   "source": [
    "## Dividir datos en:\n",
    "* Entrenamiento = 70%\n",
    "* Validación = 15%\n",
    "* Prueba = 15%"
   ]
  },
  {
   "cell_type": "code",
   "execution_count": 3,
   "metadata": {},
   "outputs": [],
   "source": [
    "X_train, X_temp, y_train, y_temp = train_test_split(\n",
    "    X, Y_one_hot, test_size=0.30, stratify=Y, random_state=42)\n",
    "X_val, X_test, y_val, y_test = train_test_split(\n",
    "    X_temp, y_temp, test_size=0.50, stratify=y_temp.argmax(1), random_state=42)"
   ]
  },
  {
   "cell_type": "markdown",
   "metadata": {},
   "source": [
    "## Definicion y compilacion de Red Neuronal"
   ]
  },
  {
   "cell_type": "code",
   "execution_count": 4,
   "metadata": {},
   "outputs": [
    {
     "name": "stderr",
     "output_type": "stream",
     "text": [
      "I0000 00:00:1752465783.150286  117366 gpu_device.cc:2019] Created device /job:localhost/replica:0/task:0/device:GPU:0 with 4734 MB memory:  -> device: 0, name: NVIDIA GeForce RTX 4060 Laptop GPU, pci bus id: 0000:01:00.0, compute capability: 8.9\n"
     ]
    }
   ],
   "source": [
    "n_features = X_train.shape[1]   # 36 o 99\n",
    "n_classes  = y_train.shape[1]\n",
    "#print(n_features,n_classes)\n",
    "#\n",
    "model = Sequential([\n",
    "    layers.Input( shape=(n_features,)),\n",
    "    layers.Dense(128, activation='relu'),\n",
    "    layers.BatchNormalization(),\n",
    "    layers.Dropout(0.30),\n",
    "    layers.Dense(64, activation='relu'),\n",
    "    layers.BatchNormalization(),\n",
    "    layers.Dropout(0.30),\n",
    "    layers.Dense(n_classes, activation='softmax')\n",
    "])\n",
    "model.compile(\n",
    "    optimizer=Adam(learning_rate=1e-3),\n",
    "    loss='categorical_crossentropy',\n",
    "    metrics=['accuracy'])"
   ]
  },
  {
   "cell_type": "markdown",
   "metadata": {},
   "source": [
    "## Entrenamiento"
   ]
  },
  {
   "cell_type": "code",
   "execution_count": 5,
   "metadata": {},
   "outputs": [
    {
     "name": "stdout",
     "output_type": "stream",
     "text": [
      "Epoch 1/130\n"
     ]
    },
    {
     "name": "stderr",
     "output_type": "stream",
     "text": [
      "WARNING: All log messages before absl::InitializeLog() is called are written to STDERR\n",
      "I0000 00:00:1752465786.021921  117522 service.cc:152] XLA service 0x7441cc004dd0 initialized for platform CUDA (this does not guarantee that XLA will be used). Devices:\n",
      "I0000 00:00:1752465786.021937  117522 service.cc:160]   StreamExecutor device (0): NVIDIA GeForce RTX 4060 Laptop GPU, Compute Capability 8.9\n",
      "2025-07-13 22:03:06.040282: I tensorflow/compiler/mlir/tensorflow/utils/dump_mlir_util.cc:269] disabling MLIR crash reproducer, set env var `MLIR_CRASH_REPRODUCER_DIRECTORY` to enable.\n",
      "I0000 00:00:1752465786.139083  117522 cuda_dnn.cc:529] Loaded cuDNN version 90300\n",
      "I0000 00:00:1752465787.402229  117522 device_compiler.h:188] Compiled cluster using XLA!  This line is logged at most once for the lifetime of the process.\n",
      "2025-07-13 22:03:08.058735: I external/local_xla/xla/stream_executor/cuda/subprocess_compilation.cc:346] ptxas warning : Registers are spilled to local memory in function 'gemm_fusion_dot_1496', 180 bytes spill stores, 180 bytes spill loads\n",
      "\n"
     ]
    },
    {
     "name": "stdout",
     "output_type": "stream",
     "text": [
      "7/7 - 4s - 546ms/step - accuracy: 0.4597 - loss: 1.4090 - val_accuracy: 0.5442 - val_loss: 1.3032\n",
      "Epoch 2/130\n",
      "7/7 - 0s - 11ms/step - accuracy: 0.7417 - loss: 0.6865 - val_accuracy: 0.6160 - val_loss: 1.2439\n",
      "Epoch 3/130\n",
      "7/7 - 0s - 11ms/step - accuracy: 0.8318 - loss: 0.4583 - val_accuracy: 0.6243 - val_loss: 1.2023\n",
      "Epoch 4/130\n",
      "7/7 - 0s - 11ms/step - accuracy: 0.8928 - loss: 0.3323 - val_accuracy: 0.6354 - val_loss: 1.1846\n",
      "Epoch 5/130\n",
      "7/7 - 0s - 11ms/step - accuracy: 0.9159 - loss: 0.2641 - val_accuracy: 0.6519 - val_loss: 1.1678\n",
      "Epoch 6/130\n",
      "7/7 - 0s - 11ms/step - accuracy: 0.9461 - loss: 0.2006 - val_accuracy: 0.6961 - val_loss: 1.1476\n",
      "Epoch 7/130\n",
      "7/7 - 0s - 12ms/step - accuracy: 0.9502 - loss: 0.1726 - val_accuracy: 0.7293 - val_loss: 1.1221\n",
      "Epoch 8/130\n",
      "7/7 - 0s - 11ms/step - accuracy: 0.9603 - loss: 0.1524 - val_accuracy: 0.7762 - val_loss: 1.0892\n",
      "Epoch 9/130\n",
      "7/7 - 0s - 11ms/step - accuracy: 0.9733 - loss: 0.1231 - val_accuracy: 0.8343 - val_loss: 1.0478\n",
      "Epoch 10/130\n",
      "7/7 - 0s - 11ms/step - accuracy: 0.9722 - loss: 0.1111 - val_accuracy: 0.8646 - val_loss: 1.0101\n",
      "Epoch 11/130\n",
      "7/7 - 0s - 11ms/step - accuracy: 0.9763 - loss: 0.0996 - val_accuracy: 0.8895 - val_loss: 0.9798\n",
      "Epoch 12/130\n",
      "7/7 - 0s - 11ms/step - accuracy: 0.9834 - loss: 0.0785 - val_accuracy: 0.9337 - val_loss: 0.9319\n",
      "Epoch 13/130\n",
      "7/7 - 0s - 11ms/step - accuracy: 0.9858 - loss: 0.0691 - val_accuracy: 0.9613 - val_loss: 0.8814\n",
      "Epoch 14/130\n",
      "7/7 - 0s - 11ms/step - accuracy: 0.9846 - loss: 0.0718 - val_accuracy: 0.9834 - val_loss: 0.8385\n",
      "Epoch 15/130\n",
      "7/7 - 0s - 11ms/step - accuracy: 0.9905 - loss: 0.0605 - val_accuracy: 0.9807 - val_loss: 0.8035\n",
      "Epoch 16/130\n",
      "7/7 - 0s - 11ms/step - accuracy: 0.9899 - loss: 0.0600 - val_accuracy: 0.9945 - val_loss: 0.7520\n",
      "Epoch 17/130\n",
      "7/7 - 0s - 12ms/step - accuracy: 0.9893 - loss: 0.0516 - val_accuracy: 0.9972 - val_loss: 0.7037\n",
      "Epoch 18/130\n",
      "7/7 - 0s - 11ms/step - accuracy: 0.9953 - loss: 0.0418 - val_accuracy: 0.9945 - val_loss: 0.6778\n",
      "Epoch 19/130\n",
      "7/7 - 0s - 11ms/step - accuracy: 0.9959 - loss: 0.0423 - val_accuracy: 0.9972 - val_loss: 0.6205\n",
      "Epoch 20/130\n",
      "7/7 - 0s - 11ms/step - accuracy: 0.9947 - loss: 0.0375 - val_accuracy: 0.9972 - val_loss: 0.5818\n",
      "Epoch 21/130\n",
      "7/7 - 0s - 11ms/step - accuracy: 0.9941 - loss: 0.0364 - val_accuracy: 0.9917 - val_loss: 0.5637\n",
      "Epoch 22/130\n",
      "7/7 - 0s - 11ms/step - accuracy: 0.9941 - loss: 0.0352 - val_accuracy: 0.9862 - val_loss: 0.5611\n",
      "Epoch 23/130\n",
      "7/7 - 0s - 11ms/step - accuracy: 0.9970 - loss: 0.0303 - val_accuracy: 0.9834 - val_loss: 0.5341\n",
      "Epoch 24/130\n",
      "7/7 - 0s - 11ms/step - accuracy: 0.9929 - loss: 0.0325 - val_accuracy: 0.9917 - val_loss: 0.4749\n",
      "Epoch 25/130\n",
      "7/7 - 0s - 11ms/step - accuracy: 0.9947 - loss: 0.0308 - val_accuracy: 0.9972 - val_loss: 0.4479\n",
      "Epoch 26/130\n",
      "7/7 - 0s - 13ms/step - accuracy: 0.9941 - loss: 0.0280 - val_accuracy: 0.9972 - val_loss: 0.4248\n",
      "Epoch 27/130\n",
      "7/7 - 0s - 11ms/step - accuracy: 0.9959 - loss: 0.0249 - val_accuracy: 0.9972 - val_loss: 0.4118\n",
      "Epoch 28/130\n",
      "7/7 - 0s - 11ms/step - accuracy: 0.9959 - loss: 0.0260 - val_accuracy: 0.9945 - val_loss: 0.3854\n",
      "Epoch 29/130\n",
      "7/7 - 0s - 11ms/step - accuracy: 0.9959 - loss: 0.0251 - val_accuracy: 0.9890 - val_loss: 0.3627\n",
      "Epoch 30/130\n",
      "7/7 - 0s - 11ms/step - accuracy: 0.9964 - loss: 0.0262 - val_accuracy: 0.9862 - val_loss: 0.3383\n",
      "Epoch 31/130\n",
      "7/7 - 0s - 11ms/step - accuracy: 0.9976 - loss: 0.0200 - val_accuracy: 0.9862 - val_loss: 0.3219\n",
      "Epoch 32/130\n",
      "7/7 - 0s - 11ms/step - accuracy: 0.9935 - loss: 0.0249 - val_accuracy: 0.9890 - val_loss: 0.3053\n",
      "Epoch 33/130\n",
      "7/7 - 0s - 9ms/step - accuracy: 0.9959 - loss: 0.0226 - val_accuracy: 0.9558 - val_loss: 0.3221\n",
      "Epoch 34/130\n",
      "7/7 - 0s - 11ms/step - accuracy: 0.9953 - loss: 0.0252 - val_accuracy: 0.9586 - val_loss: 0.2808\n",
      "Epoch 35/130\n",
      "7/7 - 0s - 11ms/step - accuracy: 0.9970 - loss: 0.0190 - val_accuracy: 0.9724 - val_loss: 0.2611\n",
      "Epoch 36/130\n",
      "7/7 - 0s - 11ms/step - accuracy: 0.9982 - loss: 0.0175 - val_accuracy: 0.9945 - val_loss: 0.2433\n",
      "Epoch 37/130\n",
      "7/7 - 0s - 9ms/step - accuracy: 0.9970 - loss: 0.0179 - val_accuracy: 0.9807 - val_loss: 0.2490\n",
      "Epoch 38/130\n",
      "7/7 - 0s - 9ms/step - accuracy: 0.9964 - loss: 0.0207 - val_accuracy: 0.9558 - val_loss: 0.2877\n",
      "Epoch 39/130\n",
      "7/7 - 0s - 8ms/step - accuracy: 0.9982 - loss: 0.0148 - val_accuracy: 0.9144 - val_loss: 0.3054\n",
      "Epoch 40/130\n",
      "7/7 - 0s - 11ms/step - accuracy: 0.9970 - loss: 0.0170 - val_accuracy: 0.9834 - val_loss: 0.1983\n",
      "Epoch 41/130\n",
      "7/7 - 0s - 10ms/step - accuracy: 0.9970 - loss: 0.0166 - val_accuracy: 1.0000 - val_loss: 0.1588\n",
      "Epoch 42/130\n",
      "7/7 - 0s - 9ms/step - accuracy: 0.9982 - loss: 0.0143 - val_accuracy: 0.9890 - val_loss: 0.1674\n",
      "Epoch 43/130\n",
      "7/7 - 0s - 11ms/step - accuracy: 0.9994 - loss: 0.0132 - val_accuracy: 0.9890 - val_loss: 0.1446\n",
      "Epoch 44/130\n",
      "7/7 - 0s - 11ms/step - accuracy: 0.9976 - loss: 0.0154 - val_accuracy: 0.9972 - val_loss: 0.1148\n",
      "Epoch 45/130\n",
      "7/7 - 0s - 11ms/step - accuracy: 0.9988 - loss: 0.0135 - val_accuracy: 1.0000 - val_loss: 0.1123\n",
      "Epoch 46/130\n",
      "7/7 - 0s - 11ms/step - accuracy: 0.9976 - loss: 0.0122 - val_accuracy: 0.9945 - val_loss: 0.1111\n",
      "Epoch 47/130\n",
      "7/7 - 0s - 11ms/step - accuracy: 0.9994 - loss: 0.0106 - val_accuracy: 0.9972 - val_loss: 0.0931\n",
      "Epoch 48/130\n",
      "7/7 - 0s - 11ms/step - accuracy: 0.9976 - loss: 0.0129 - val_accuracy: 1.0000 - val_loss: 0.0864\n",
      "Epoch 49/130\n",
      "7/7 - 0s - 11ms/step - accuracy: 0.9982 - loss: 0.0119 - val_accuracy: 1.0000 - val_loss: 0.0816\n",
      "Epoch 50/130\n",
      "7/7 - 0s - 11ms/step - accuracy: 1.0000 - loss: 0.0095 - val_accuracy: 0.9972 - val_loss: 0.0749\n",
      "Epoch 51/130\n",
      "7/7 - 0s - 11ms/step - accuracy: 1.0000 - loss: 0.0088 - val_accuracy: 0.9972 - val_loss: 0.0707\n",
      "Epoch 52/130\n",
      "7/7 - 0s - 11ms/step - accuracy: 0.9994 - loss: 0.0104 - val_accuracy: 1.0000 - val_loss: 0.0607\n",
      "Epoch 53/130\n",
      "7/7 - 0s - 10ms/step - accuracy: 0.9988 - loss: 0.0098 - val_accuracy: 1.0000 - val_loss: 0.0523\n",
      "Epoch 54/130\n",
      "7/7 - 0s - 9ms/step - accuracy: 0.9982 - loss: 0.0090 - val_accuracy: 1.0000 - val_loss: 0.0554\n",
      "Epoch 55/130\n",
      "7/7 - 0s - 9ms/step - accuracy: 0.9976 - loss: 0.0102 - val_accuracy: 0.9945 - val_loss: 0.0571\n",
      "Epoch 56/130\n",
      "7/7 - 0s - 11ms/step - accuracy: 0.9982 - loss: 0.0098 - val_accuracy: 1.0000 - val_loss: 0.0415\n",
      "Epoch 57/130\n",
      "7/7 - 0s - 11ms/step - accuracy: 0.9970 - loss: 0.0129 - val_accuracy: 1.0000 - val_loss: 0.0330\n",
      "Epoch 58/130\n",
      "7/7 - 0s - 9ms/step - accuracy: 0.9982 - loss: 0.0082 - val_accuracy: 1.0000 - val_loss: 0.0479\n",
      "Epoch 59/130\n",
      "7/7 - 0s - 9ms/step - accuracy: 0.9982 - loss: 0.0103 - val_accuracy: 1.0000 - val_loss: 0.0373\n",
      "Epoch 60/130\n",
      "7/7 - 0s - 11ms/step - accuracy: 0.9988 - loss: 0.0084 - val_accuracy: 1.0000 - val_loss: 0.0238\n",
      "Epoch 61/130\n",
      "7/7 - 0s - 9ms/step - accuracy: 0.9994 - loss: 0.0062 - val_accuracy: 1.0000 - val_loss: 0.0242\n",
      "Epoch 62/130\n",
      "7/7 - 0s - 9ms/step - accuracy: 0.9964 - loss: 0.0149 - val_accuracy: 0.9586 - val_loss: 0.1277\n",
      "Epoch 63/130\n",
      "7/7 - 0s - 9ms/step - accuracy: 0.9982 - loss: 0.0082 - val_accuracy: 0.9669 - val_loss: 0.1003\n",
      "Epoch 64/130\n",
      "7/7 - 0s - 9ms/step - accuracy: 0.9982 - loss: 0.0116 - val_accuracy: 0.9724 - val_loss: 0.0706\n",
      "Epoch 65/130\n",
      "7/7 - 0s - 9ms/step - accuracy: 0.9976 - loss: 0.0108 - val_accuracy: 1.0000 - val_loss: 0.0268\n",
      "Epoch 66/130\n",
      "7/7 - 0s - 11ms/step - accuracy: 0.9970 - loss: 0.0127 - val_accuracy: 1.0000 - val_loss: 0.0149\n",
      "Epoch 67/130\n",
      "7/7 - 0s - 9ms/step - accuracy: 0.9988 - loss: 0.0088 - val_accuracy: 1.0000 - val_loss: 0.0164\n",
      "Epoch 68/130\n",
      "7/7 - 0s - 9ms/step - accuracy: 0.9994 - loss: 0.0072 - val_accuracy: 1.0000 - val_loss: 0.0167\n",
      "Epoch 69/130\n",
      "7/7 - 0s - 12ms/step - accuracy: 1.0000 - loss: 0.0068 - val_accuracy: 1.0000 - val_loss: 0.0102\n",
      "Epoch 70/130\n",
      "7/7 - 0s - 11ms/step - accuracy: 0.9988 - loss: 0.0074 - val_accuracy: 1.0000 - val_loss: 0.0101\n",
      "Epoch 71/130\n",
      "7/7 - 0s - 9ms/step - accuracy: 0.9994 - loss: 0.0061 - val_accuracy: 1.0000 - val_loss: 0.0142\n",
      "Epoch 72/130\n",
      "7/7 - 0s - 11ms/step - accuracy: 0.9982 - loss: 0.0075 - val_accuracy: 1.0000 - val_loss: 0.0072\n",
      "Epoch 73/130\n",
      "7/7 - 0s - 9ms/step - accuracy: 0.9988 - loss: 0.0065 - val_accuracy: 1.0000 - val_loss: 0.0092\n",
      "Epoch 74/130\n",
      "7/7 - 0s - 9ms/step - accuracy: 0.9994 - loss: 0.0069 - val_accuracy: 1.0000 - val_loss: 0.0075\n",
      "Epoch 75/130\n",
      "7/7 - 0s - 11ms/step - accuracy: 0.9976 - loss: 0.0088 - val_accuracy: 1.0000 - val_loss: 0.0045\n",
      "Epoch 76/130\n",
      "7/7 - 0s - 9ms/step - accuracy: 0.9982 - loss: 0.0092 - val_accuracy: 1.0000 - val_loss: 0.0049\n",
      "Epoch 77/130\n",
      "7/7 - 0s - 9ms/step - accuracy: 0.9976 - loss: 0.0077 - val_accuracy: 1.0000 - val_loss: 0.0056\n",
      "Epoch 78/130\n",
      "7/7 - 0s - 9ms/step - accuracy: 0.9994 - loss: 0.0069 - val_accuracy: 0.9972 - val_loss: 0.0121\n",
      "Epoch 79/130\n",
      "7/7 - 0s - 9ms/step - accuracy: 0.9994 - loss: 0.0056 - val_accuracy: 1.0000 - val_loss: 0.0086\n",
      "Epoch 80/130\n",
      "7/7 - 0s - 9ms/step - accuracy: 0.9988 - loss: 0.0070 - val_accuracy: 1.0000 - val_loss: 0.0087\n",
      "Epoch 81/130\n",
      "7/7 - 0s - 9ms/step - accuracy: 0.9988 - loss: 0.0075 - val_accuracy: 1.0000 - val_loss: 0.0081\n",
      "Epoch 82/130\n",
      "7/7 - 0s - 11ms/step - accuracy: 0.9994 - loss: 0.0069 - val_accuracy: 1.0000 - val_loss: 0.0043\n",
      "Epoch 83/130\n",
      "7/7 - 0s - 11ms/step - accuracy: 1.0000 - loss: 0.0050 - val_accuracy: 1.0000 - val_loss: 0.0027\n",
      "Epoch 84/130\n",
      "7/7 - 0s - 9ms/step - accuracy: 1.0000 - loss: 0.0049 - val_accuracy: 1.0000 - val_loss: 0.0034\n",
      "Epoch 85/130\n",
      "7/7 - 0s - 11ms/step - accuracy: 0.9994 - loss: 0.0066 - val_accuracy: 1.0000 - val_loss: 0.0019\n",
      "Epoch 86/130\n",
      "7/7 - 0s - 9ms/step - accuracy: 0.9994 - loss: 0.0058 - val_accuracy: 1.0000 - val_loss: 0.0032\n",
      "Epoch 87/130\n",
      "7/7 - 0s - 10ms/step - accuracy: 0.9982 - loss: 0.0061 - val_accuracy: 1.0000 - val_loss: 0.0015\n",
      "Epoch 88/130\n",
      "7/7 - 0s - 8ms/step - accuracy: 0.9994 - loss: 0.0049 - val_accuracy: 1.0000 - val_loss: 0.0021\n",
      "Epoch 89/130\n",
      "7/7 - 0s - 10ms/step - accuracy: 0.9988 - loss: 0.0046 - val_accuracy: 1.0000 - val_loss: 0.0018\n",
      "Epoch 90/130\n",
      "7/7 - 0s - 9ms/step - accuracy: 0.9982 - loss: 0.0074 - val_accuracy: 1.0000 - val_loss: 0.0032\n",
      "Epoch 91/130\n",
      "7/7 - 0s - 9ms/step - accuracy: 1.0000 - loss: 0.0040 - val_accuracy: 0.9972 - val_loss: 0.0043\n",
      "Epoch 92/130\n",
      "7/7 - 0s - 9ms/step - accuracy: 0.9982 - loss: 0.0078 - val_accuracy: 1.0000 - val_loss: 0.0042\n",
      "Epoch 93/130\n",
      "7/7 - 0s - 9ms/step - accuracy: 1.0000 - loss: 0.0041 - val_accuracy: 0.9972 - val_loss: 0.0083\n",
      "Epoch 94/130\n",
      "7/7 - 0s - 9ms/step - accuracy: 0.9994 - loss: 0.0052 - val_accuracy: 1.0000 - val_loss: 0.0023\n",
      "Epoch 95/130\n",
      "7/7 - 0s - 9ms/step - accuracy: 0.9994 - loss: 0.0065 - val_accuracy: 1.0000 - val_loss: 0.0018\n",
      "Epoch 96/130\n",
      "7/7 - 0s - 8ms/step - accuracy: 1.0000 - loss: 0.0033 - val_accuracy: 1.0000 - val_loss: 0.0020\n",
      "Epoch 97/130\n",
      "7/7 - 0s - 9ms/step - accuracy: 0.9988 - loss: 0.0055 - val_accuracy: 1.0000 - val_loss: 0.0020\n",
      "Epoch 98/130\n",
      "7/7 - 0s - 9ms/step - accuracy: 0.9988 - loss: 0.0051 - val_accuracy: 1.0000 - val_loss: 0.0019\n",
      "Epoch 99/130\n",
      "7/7 - 0s - 9ms/step - accuracy: 0.9982 - loss: 0.0067 - val_accuracy: 1.0000 - val_loss: 0.0020\n",
      "Epoch 100/130\n",
      "7/7 - 0s - 11ms/step - accuracy: 1.0000 - loss: 0.0027 - val_accuracy: 1.0000 - val_loss: 0.0011\n",
      "Epoch 101/130\n",
      "7/7 - 0s - 11ms/step - accuracy: 0.9994 - loss: 0.0046 - val_accuracy: 1.0000 - val_loss: 0.0010\n",
      "Epoch 102/130\n",
      "7/7 - 0s - 10ms/step - accuracy: 0.9994 - loss: 0.0041 - val_accuracy: 1.0000 - val_loss: 5.3120e-04\n",
      "Epoch 103/130\n",
      "7/7 - 0s - 9ms/step - accuracy: 0.9988 - loss: 0.0063 - val_accuracy: 1.0000 - val_loss: 5.4861e-04\n",
      "Epoch 104/130\n",
      "7/7 - 0s - 8ms/step - accuracy: 0.9988 - loss: 0.0043 - val_accuracy: 1.0000 - val_loss: 6.0427e-04\n",
      "Epoch 105/130\n",
      "7/7 - 0s - 9ms/step - accuracy: 0.9982 - loss: 0.0060 - val_accuracy: 1.0000 - val_loss: 0.0015\n",
      "Epoch 106/130\n",
      "7/7 - 0s - 9ms/step - accuracy: 0.9982 - loss: 0.0065 - val_accuracy: 1.0000 - val_loss: 0.0011\n",
      "Epoch 107/130\n",
      "7/7 - 0s - 9ms/step - accuracy: 0.9994 - loss: 0.0039 - val_accuracy: 1.0000 - val_loss: 9.5113e-04\n",
      "Epoch 108/130\n",
      "7/7 - 0s - 9ms/step - accuracy: 0.9988 - loss: 0.0038 - val_accuracy: 1.0000 - val_loss: 0.0011\n",
      "Epoch 109/130\n",
      "7/7 - 0s - 9ms/step - accuracy: 0.9988 - loss: 0.0043 - val_accuracy: 1.0000 - val_loss: 6.5940e-04\n",
      "Epoch 110/130\n",
      "7/7 - 0s - 8ms/step - accuracy: 0.9994 - loss: 0.0036 - val_accuracy: 1.0000 - val_loss: 8.1919e-04\n",
      "Epoch 111/130\n",
      "7/7 - 0s - 8ms/step - accuracy: 0.9982 - loss: 0.0052 - val_accuracy: 1.0000 - val_loss: 0.0011\n",
      "Epoch 112/130\n",
      "7/7 - 0s - 9ms/step - accuracy: 0.9982 - loss: 0.0053 - val_accuracy: 1.0000 - val_loss: 0.0033\n",
      "Epoch 113/130\n",
      "7/7 - 0s - 9ms/step - accuracy: 0.9982 - loss: 0.0061 - val_accuracy: 1.0000 - val_loss: 6.5333e-04\n",
      "Epoch 114/130\n",
      "7/7 - 0s - 8ms/step - accuracy: 1.0000 - loss: 0.0031 - val_accuracy: 1.0000 - val_loss: 0.0017\n",
      "Epoch 115/130\n",
      "7/7 - 0s - 9ms/step - accuracy: 0.9994 - loss: 0.0041 - val_accuracy: 1.0000 - val_loss: 0.0021\n",
      "Epoch 116/130\n",
      "7/7 - 0s - 9ms/step - accuracy: 1.0000 - loss: 0.0034 - val_accuracy: 1.0000 - val_loss: 8.4821e-04\n",
      "Epoch 117/130\n",
      "7/7 - 0s - 10ms/step - accuracy: 1.0000 - loss: 0.0037 - val_accuracy: 1.0000 - val_loss: 6.5221e-04\n",
      "Epoch 118/130\n",
      "7/7 - 0s - 9ms/step - accuracy: 0.9988 - loss: 0.0043 - val_accuracy: 1.0000 - val_loss: 5.6570e-04\n",
      "Epoch 119/130\n",
      "7/7 - 0s - 9ms/step - accuracy: 1.0000 - loss: 0.0035 - val_accuracy: 1.0000 - val_loss: 0.0011\n",
      "Epoch 120/130\n",
      "7/7 - 0s - 9ms/step - accuracy: 1.0000 - loss: 0.0032 - val_accuracy: 1.0000 - val_loss: 0.0022\n",
      "Epoch 121/130\n",
      "7/7 - 0s - 9ms/step - accuracy: 1.0000 - loss: 0.0031 - val_accuracy: 1.0000 - val_loss: 0.0019\n",
      "Epoch 122/130\n",
      "7/7 - 0s - 9ms/step - accuracy: 1.0000 - loss: 0.0029 - val_accuracy: 1.0000 - val_loss: 0.0010\n",
      "Epoch 123/130\n",
      "7/7 - 0s - 9ms/step - accuracy: 0.9994 - loss: 0.0035 - val_accuracy: 0.9972 - val_loss: 0.0046\n",
      "Epoch 124/130\n",
      "7/7 - 0s - 9ms/step - accuracy: 1.0000 - loss: 0.0031 - val_accuracy: 0.9972 - val_loss: 0.0083\n",
      "Epoch 125/130\n",
      "7/7 - 0s - 9ms/step - accuracy: 1.0000 - loss: 0.0029 - val_accuracy: 0.9972 - val_loss: 0.0062\n",
      "Epoch 126/130\n",
      "7/7 - 0s - 9ms/step - accuracy: 1.0000 - loss: 0.0026 - val_accuracy: 0.9972 - val_loss: 0.0024\n",
      "Epoch 127/130\n",
      "7/7 - 0s - 9ms/step - accuracy: 0.9994 - loss: 0.0040 - val_accuracy: 0.9972 - val_loss: 0.0079\n",
      "Epoch 128/130\n",
      "7/7 - 0s - 9ms/step - accuracy: 0.9994 - loss: 0.0041 - val_accuracy: 1.0000 - val_loss: 0.0050\n",
      "Epoch 129/130\n",
      "7/7 - 0s - 9ms/step - accuracy: 0.9994 - loss: 0.0035 - val_accuracy: 1.0000 - val_loss: 0.0014\n",
      "Epoch 130/130\n",
      "7/7 - 0s - 8ms/step - accuracy: 0.9988 - loss: 0.0046 - val_accuracy: 0.9972 - val_loss: 0.0081\n"
     ]
    }
   ],
   "source": [
    "checkpoint = callbacks.ModelCheckpoint(\n",
    "    \"best_model.keras\", save_best_only=True, monitor='val_loss')\n",
    "\n",
    "history = model.fit(\n",
    "    X_train, y_train,\n",
    "    epochs=130,\n",
    "    batch_size=256,\n",
    "    validation_data=(X_val, y_val),\n",
    "    callbacks=[checkpoint],\n",
    "    verbose=2)\n"
   ]
  },
  {
   "cell_type": "markdown",
   "metadata": {},
   "source": [
    "## Evaluación"
   ]
  },
  {
   "cell_type": "code",
   "execution_count": 6,
   "metadata": {},
   "outputs": [
    {
     "name": "stdout",
     "output_type": "stream",
     "text": [
      "Accuracy en test: 1.000\n",
      "\u001b[1m12/12\u001b[0m \u001b[32m━━━━━━━━━━━━━━━━━━━━\u001b[0m\u001b[37m\u001b[0m \u001b[1m0s\u001b[0m 11ms/step\n",
      "[[ 87   0   0   0]\n",
      " [  0  94   0   0]\n",
      " [  0   0 119   0]\n",
      " [  0   0   0  62]]\n",
      "                 precision    recall  f1-score   support\n",
      "\n",
      "BRAZOS_CRUZADOS       1.00      1.00      1.00        87\n",
      "         FIRMES       1.00      1.00      1.00        94\n",
      "           OTRO       1.00      1.00      1.00       119\n",
      " POSICION_FETAL       1.00      1.00      1.00        62\n",
      "\n",
      "       accuracy                           1.00       362\n",
      "      macro avg       1.00      1.00      1.00       362\n",
      "   weighted avg       1.00      1.00      1.00       362\n",
      "\n"
     ]
    }
   ],
   "source": [
    "test_loss, test_acc = model.evaluate(X_test, y_test, verbose=0)\n",
    "print(f\"Accuracy en test: {test_acc:.3f}\")\n",
    "\n",
    "\n",
    "y_pred = model.predict(X_test)\n",
    "cm = confusion_matrix(y_test.argmax(1), y_pred.argmax(1))\n",
    "print(cm)\n",
    "print(classification_report(y_test.argmax(1), y_pred.argmax(1), target_names=poses_lb.classes_))\n",
    "\n",
    "#Distancia cosenoidal entre los datos (Por cada clase)\n",
    "#Tomar 10 frames de cada segundo"
   ]
  },
  {
   "cell_type": "markdown",
   "metadata": {},
   "source": [
    "## Graficas de resultados"
   ]
  },
  {
   "cell_type": "code",
   "execution_count": 7,
   "metadata": {},
   "outputs": [
    {
     "data": {
      "image/png": "[encoded data removed]",
      "text/plain": [
       "<Figure size 640x480 with 1 Axes>"
      ]
     },
     "metadata": {},
     "output_type": "display_data"
    },
    {
     "data": {
      "image/png": "[encoded data removed]",
      "text/plain": [
       "<Figure size 640x480 with 1 Axes>"
      ]
     },
     "metadata": {},
     "output_type": "display_data"
    }
   ],
   "source": [
    "#Evaluar resultados\n",
    "plt.plot(history.history['accuracy'])\n",
    "plt.plot(history.history['val_accuracy'])\n",
    "plt.title('Precision del modelo')\n",
    "plt.ylabel('Precision')\n",
    "plt.xlabel('Epoch')\n",
    "plt.legend(['Train', 'Test'], loc='upper left')\n",
    "plt.show()\n",
    "\n",
    "#Funcion de perdida\n",
    "plt.plot(history.history['loss'])\n",
    "plt.plot(history.history['val_loss'])\n",
    "plt.title('Funcion de perdida del modelo')\n",
    "plt.ylabel('Funcion de perdida')\n",
    "plt.xlabel('Epoch')\n",
    "plt.legend(['Train', 'Test'], loc='upper left')\n",
    "plt.show()"
   ]
  },
  {
   "cell_type": "markdown",
   "metadata": {},
   "source": [
    "## Uso del modelo para predicción"
   ]
  },
  {
   "cell_type": "code",
   "execution_count": null,
   "metadata": {},
   "outputs": [
    {
     "name": "stderr",
     "output_type": "stream",
     "text": [
      "WARNING: All log messages before absl::InitializeLog() is called are written to STDERR\n",
      "I0000 00:00:1752465814.864677  117366 gl_context_egl.cc:85] Successfully initialized EGL. Major : 1 Minor: 5\n",
      "I0000 00:00:1752465814.892041  135769 gl_context.cc:369] GL version: 3.2 (OpenGL ES 3.2 NVIDIA 550.144.03), renderer: NVIDIA GeForce RTX 4060 Laptop GPU/PCIe/SSE2\n",
      "INFO: Created TensorFlow Lite XNNPACK delegate for CPU.\n",
      "W0000 00:00:1752465814.928492  135743 inference_feedback_manager.cc:114] Feedback manager requires a model with a single signature inference. Disabling support for feedback tensors.\n",
      "W0000 00:00:1752465814.986702  135754 inference_feedback_manager.cc:114] Feedback manager requires a model with a single signature inference. Disabling support for feedback tensors.\n",
      "W0000 00:00:1752465815.024543  135739 landmark_projection_calculator.cc:186] Using NORM_RECT without IMAGE_DIMENSIONS is only supported for the square ROI. Provide IMAGE_DIMENSIONS or use PROJECTION_MATRIX.\n"
     ]
    },
    {
     "name": "stdout",
     "output_type": "stream",
     "text": [
      "[0.5151408314704895, 0.12388980388641357, -0.410516619682312, 0.5371013283729553, 0.1047186627984047, -0.3877306282520294, 0.5505034923553467, 0.10574290156364441, -0.38851264119148254, 0.5636589527130127, 0.10710403323173523, -0.3885844349861145, 0.49591076374053955, 0.1035374104976654, -0.38556450605392456, 0.4818163514137268, 0.10378342866897583, -0.38649782538414, 0.4687800407409668, 0.10462590306997299, -0.38691848516464233, 0.585877537727356, 0.1164318323135376, -0.22288668155670166, 0.45612475275993347, 0.11411122232675552, -0.21174876391887665, 0.5416460633277893, 0.14955028891563416, -0.34008732438087463, 0.489414781332016, 0.14697346091270447, -0.34194865822792053, 0.6683605909347534, 0.24311676621437073, -0.17290817201137543, 0.36942413449287415, 0.23792731761932373, -0.07363874465227127, 0.719523012638092, 0.40645524859428406, -0.11123038083314896, 0.31252771615982056, 0.3818463087081909, -0.09619522839784622, 0.7392994165420532, 0.5513121485710144, -0.16479921340942383, 0.252131849527359, 0.507148802280426, -0.20687104761600494, 0.7479687929153442, 0.5996686816215515, -0.18821196258068085, 0.23696088790893555, 0.5397340655326843, -0.23126395046710968, 0.7189615368843079, 0.5986079573631287, -0.25082236528396606, 0.24448131024837494, 0.5430238842964172, -0.3013392984867096, 0.703032910823822, 0.5819085836410522, -0.18700212240219116, 0.2570757269859314, 0.5337162017822266, -0.2398281842470169, 0.5814580917358398, 0.5309526920318604, -0.028263380751013756, 0.41523614525794983, 0.5270905494689941, 0.02748740464448929, 0.5493437051773071, 0.7367614507675171, 0.0204500462859869, 0.3446553349494934, 0.7411483526229858, -0.09243220090866089, 0.505931556224823, 0.8944463133811951, 0.2637535333633423, 0.3534472584724426, 0.907030463218689, 0.0495900996029377, 0.4752224385738373, 0.9178003668785095, 0.2742636799812317, 0.38315626978874207, 0.9334830641746521, 0.056911613792181015, 0.5534497499465942, 0.9728095531463623, 0.12244337797164917, 0.2616220712661743, 0.9814547300338745, -0.09418142586946487, 'desconocido']\n"
     ]
    },
    {
     "ename": "TypeError",
     "evalue": "MpPose.extrae_valores() missing 1 required positional argument: 'label'",
     "output_type": "error",
     "traceback": [
      "\u001b[0;31m---------------------------------------------------------------------------\u001b[0m",
      "\u001b[0;31mTypeError\u001b[0m                                 Traceback (most recent call last)",
      "Cell \u001b[0;32mIn[8], line 5\u001b[0m\n\u001b[1;32m      3\u001b[0m imagen\u001b[38;5;241m=\u001b[39mIMAGEN(\u001b[38;5;124m\"\u001b[39m\u001b[38;5;124mFotos/image.png\u001b[39m\u001b[38;5;124m\"\u001b[39m)\n\u001b[1;32m      4\u001b[0m imagen\u001b[38;5;241m.\u001b[39mprocess(\u001b[38;5;28;01mTrue\u001b[39;00m)\n\u001b[0;32m----> 5\u001b[0m x_new\u001b[38;5;241m=\u001b[39m\u001b[43mimagen\u001b[49m\u001b[38;5;241;43m.\u001b[39;49m\u001b[43mextrae_frames\u001b[49m\u001b[43m(\u001b[49m\u001b[43m)\u001b[49m\n\u001b[1;32m      6\u001b[0m x_new\u001b[38;5;241m=\u001b[39mnp\u001b[38;5;241m.\u001b[39marray([x_new])\n\u001b[1;32m      7\u001b[0m \u001b[38;5;28mprint\u001b[39m(\u001b[38;5;28mlen\u001b[39m(x_new))\n",
      "File \u001b[0;32m~/GitHub/Timeless-Turing/tests/ExtraeFrame.py:115\u001b[0m, in \u001b[0;36mIMAGEN.extrae_frames\u001b[0;34m(self)\u001b[0m\n\u001b[1;32m    114\u001b[0m \u001b[38;5;28;01mdef\u001b[39;00m\u001b[38;5;250m \u001b[39m\u001b[38;5;21mextrae_frames\u001b[39m(\u001b[38;5;28mself\u001b[39m):\n\u001b[0;32m--> 115\u001b[0m     \u001b[38;5;28;01mreturn\u001b[39;00m(\u001b[38;5;28;43mself\u001b[39;49m\u001b[38;5;241;43m.\u001b[39;49m\u001b[43mpose\u001b[49m\u001b[38;5;241;43m.\u001b[39;49m\u001b[43mextrae_valores\u001b[49m\u001b[43m(\u001b[49m\u001b[43m)\u001b[49m)\n",
      "\u001b[0;31mTypeError\u001b[0m: MpPose.extrae_valores() missing 1 required positional argument: 'label'"
     ]
    }
   ],
   "source": [
    "from ExtraeFrame import IMAGEN\n",
    "\n",
    "imagen=IMAGEN(\"Fotos/image.png\")\n",
    "imagen.process(True)\n",
    "x_new=imagen.extrae_frames(\"desconocido\")\n",
    "x_new=np.array([x_new])\n",
    "print(len(x_new))\n",
    "\n",
    "prediccion  = model.predict(x_new)\n",
    "print (prediccion)\n",
    "label  = poses_lb.inverse_transform(prediccion)\n",
    "print(label)\n"
   ]
  }
 ],
 "metadata": {
  "kernelspec": {
   "display_name": "timelessTuring",
   "language": "python",
   "name": "python3"
  },
  "language_info": {
   "codemirror_mode": {
    "name": "ipython",
    "version": 3
   },
   "file_extension": ".py",
   "mimetype": "text/x-python",
   "name": "python",
   "nbconvert_exporter": "python",
   "pygments_lexer": "ipython3",
   "version": "3.10.16"
  }
 },
 "nbformat": 4,
 "nbformat_minor": 2
}
