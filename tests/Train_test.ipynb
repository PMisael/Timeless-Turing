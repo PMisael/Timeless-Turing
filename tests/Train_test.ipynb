{
 "cells": [
  {
   "cell_type": "markdown",
   "metadata": {},
   "source": [
    "# Red neuronal para predecir poses"
   ]
  },
  {
   "cell_type": "markdown",
   "metadata": {},
   "source": [
    "## Importar librerias"
   ]
  },
  {
   "cell_type": "code",
   "execution_count": 2,
   "metadata": {},
   "outputs": [
    {
     "name": "stderr",
     "output_type": "stream",
     "text": [
      "2025-07-15 14:39:39.854687: I tensorflow/core/util/port.cc:153] oneDNN custom operations are on. You may see slightly different numerical results due to floating-point round-off errors from different computation orders. To turn them off, set the environment variable `TF_ENABLE_ONEDNN_OPTS=0`.\n",
      "2025-07-15 14:39:39.862390: E external/local_xla/xla/stream_executor/cuda/cuda_fft.cc:467] Unable to register cuFFT factory: Attempting to register factory for plugin cuFFT when one has already been registered\n",
      "WARNING: All log messages before absl::InitializeLog() is called are written to STDERR\n",
      "E0000 00:00:1752611979.872075   15954 cuda_dnn.cc:8579] Unable to register cuDNN factory: Attempting to register factory for plugin cuDNN when one has already been registered\n",
      "E0000 00:00:1752611979.874726   15954 cuda_blas.cc:1407] Unable to register cuBLAS factory: Attempting to register factory for plugin cuBLAS when one has already been registered\n",
      "W0000 00:00:1752611979.881466   15954 computation_placer.cc:177] computation placer already registered. Please check linkage and avoid linking the same target more than once.\n",
      "W0000 00:00:1752611979.881479   15954 computation_placer.cc:177] computation placer already registered. Please check linkage and avoid linking the same target more than once.\n",
      "W0000 00:00:1752611979.881480   15954 computation_placer.cc:177] computation placer already registered. Please check linkage and avoid linking the same target more than once.\n",
      "W0000 00:00:1752611979.881481   15954 computation_placer.cc:177] computation placer already registered. Please check linkage and avoid linking the same target more than once.\n",
      "2025-07-15 14:39:39.884188: I tensorflow/core/platform/cpu_feature_guard.cc:210] This TensorFlow binary is optimized to use available CPU instructions in performance-critical operations.\n",
      "To enable the following instructions: AVX2 AVX_VNNI FMA, in other operations, rebuild TensorFlow with the appropriate compiler flags.\n"
     ]
    }
   ],
   "source": [
    "import pandas as pd\n",
    "import numpy as np\n",
    "from pathlib import Path\n",
    "from matplotlib import pyplot as plt\n",
    "\n",
    "from keras import layers,callbacks\n",
    "from keras.models import Sequential, load_model\n",
    "from keras.optimizers import Adam\n",
    "\n",
    "from sklearn.preprocessing import LabelBinarizer\n",
    "from sklearn.model_selection import train_test_split\n",
    "from sklearn.metrics import confusion_matrix, classification_report"
   ]
  },
  {
   "cell_type": "markdown",
   "metadata": {},
   "source": [
    "## Preparar datos (Entrenamiento y Validacion)"
   ]
  },
  {
   "cell_type": "code",
   "execution_count": 5,
   "metadata": {},
   "outputs": [
    {
     "name": "stdout",
     "output_type": "stream",
     "text": [
      "test_csv\n",
      "test_csv\n",
      "test_csv\n",
      "test_csv\n",
      "train_val_csv\n",
      "train_val_csv\n",
      "train_val_csv\n",
      "train_val_csv\n"
     ]
    }
   ],
   "source": [
    "CARPETA=Path(\"../data\").resolve()\n",
    "Salida=Path(\"dataset_completo.csv\")\n",
    "#\n",
    "# Unir los csvs para hacer uno solo\n",
    "csvs = [p.resolve() for p in CARPETA.rglob(\"*.csv\") if p.stem!=Salida]\n",
    "for ruta in csvs:\n",
    "    print(ruta.parent.stem)\n",
    "#df=pd.concat((pd.read_csv(f) for f in csvs),ignore_index=True)\n",
    "#df = df.drop_duplicates().reset_index(drop=True)\n",
    "#df.to_csv(CARPETA/Salida, index=False, float_format=\"%.6f\")\n",
    "\n",
    "#print(df)\n",
    "\n",
    "#X= df.drop(columns=['label'])\n",
    "#Y= df['label']\n",
    "\n",
    "#poses_lb=LabelBinarizer()\n",
    "#Y_one_hot= poses_lb.fit_transform(Y)\n",
    "#print(Y_one_hot)"
   ]
  },
  {
   "cell_type": "markdown",
   "metadata": {},
   "source": [
    "## Dividir datos en:\n",
    "* Entrenamiento = 70%\n",
    "* Validación = 15%\n",
    "* Prueba = 15%"
   ]
  },
  {
   "cell_type": "code",
   "execution_count": 3,
   "metadata": {},
   "outputs": [],
   "source": [
    "X_train, X_temp, y_train, y_temp = train_test_split(\n",
    "    X, Y_one_hot, test_size=0.30, stratify=Y, random_state=42)\n",
    "X_val, X_test, y_val, y_test = train_test_split(\n",
    "    X_temp, y_temp, test_size=0.50, stratify=y_temp.argmax(1), random_state=42)"
   ]
  },
  {
   "cell_type": "markdown",
   "metadata": {},
   "source": [
    "## Definicion y compilacion de Red Neuronal"
   ]
  },
  {
   "cell_type": "code",
   "execution_count": 4,
   "metadata": {},
   "outputs": [
    {
     "name": "stderr",
     "output_type": "stream",
     "text": [
      "I0000 00:00:1752468815.316591  246163 gpu_device.cc:2019] Created device /job:localhost/replica:0/task:0/device:GPU:0 with 4728 MB memory:  -> device: 0, name: NVIDIA GeForce RTX 4060 Laptop GPU, pci bus id: 0000:01:00.0, compute capability: 8.9\n"
     ]
    }
   ],
   "source": [
    "n_features = X_train.shape[1]   # 36 o 99\n",
    "n_classes  = y_train.shape[1]\n",
    "#print(n_features,n_classes)\n",
    "#\n",
    "model = Sequential([\n",
    "    layers.Input( shape=(n_features,)),\n",
    "    layers.Dense(128, activation='relu'),\n",
    "    layers.BatchNormalization(),\n",
    "    layers.Dropout(0.30),\n",
    "    layers.Dense(64, activation='relu'),\n",
    "    layers.BatchNormalization(),\n",
    "    layers.Dropout(0.30),\n",
    "    layers.Dense(n_classes, activation='softmax')\n",
    "])\n",
    "model.compile(\n",
    "    optimizer=Adam(learning_rate=1e-3),\n",
    "    loss='categorical_crossentropy',\n",
    "    metrics=['accuracy'])"
   ]
  },
  {
   "cell_type": "markdown",
   "metadata": {},
   "source": [
    "## Entrenamiento"
   ]
  },
  {
   "cell_type": "code",
   "execution_count": 5,
   "metadata": {},
   "outputs": [
    {
     "name": "stdout",
     "output_type": "stream",
     "text": [
      "Epoch 1/130\n"
     ]
    },
    {
     "name": "stderr",
     "output_type": "stream",
     "text": [
      "WARNING: All log messages before absl::InitializeLog() is called are written to STDERR\n",
      "I0000 00:00:1752468816.332333  246318 service.cc:152] XLA service 0x7d49900032c0 initialized for platform CUDA (this does not guarantee that XLA will be used). Devices:\n",
      "I0000 00:00:1752468816.332345  246318 service.cc:160]   StreamExecutor device (0): NVIDIA GeForce RTX 4060 Laptop GPU, Compute Capability 8.9\n",
      "2025-07-13 22:53:36.351044: I tensorflow/compiler/mlir/tensorflow/utils/dump_mlir_util.cc:269] disabling MLIR crash reproducer, set env var `MLIR_CRASH_REPRODUCER_DIRECTORY` to enable.\n",
      "I0000 00:00:1752468816.453688  246318 cuda_dnn.cc:529] Loaded cuDNN version 90300\n",
      "I0000 00:00:1752468817.770143  246318 device_compiler.h:188] Compiled cluster using XLA!  This line is logged at most once for the lifetime of the process.\n"
     ]
    },
    {
     "name": "stdout",
     "output_type": "stream",
     "text": [
      "3/3 - 3s - 1s/step - accuracy: 0.2580 - loss: 2.2273 - val_accuracy: 0.2727 - val_loss: 1.3641\n",
      "Epoch 2/130\n",
      "3/3 - 0s - 26ms/step - accuracy: 0.5036 - loss: 1.3289 - val_accuracy: 0.2810 - val_loss: 1.3337\n",
      "Epoch 3/130\n",
      "3/3 - 0s - 24ms/step - accuracy: 0.6833 - loss: 0.8660 - val_accuracy: 0.3471 - val_loss: 1.3094\n",
      "Epoch 4/130\n",
      "3/3 - 0s - 24ms/step - accuracy: 0.7722 - loss: 0.6247 - val_accuracy: 0.4298 - val_loss: 1.2848\n",
      "Epoch 5/130\n",
      "3/3 - 0s - 23ms/step - accuracy: 0.7900 - loss: 0.5225 - val_accuracy: 0.4959 - val_loss: 1.2616\n",
      "Epoch 6/130\n",
      "3/3 - 0s - 23ms/step - accuracy: 0.8488 - loss: 0.4229 - val_accuracy: 0.6116 - val_loss: 1.2362\n",
      "Epoch 7/130\n",
      "3/3 - 0s - 24ms/step - accuracy: 0.8648 - loss: 0.3547 - val_accuracy: 0.6198 - val_loss: 1.2149\n",
      "Epoch 8/130\n",
      "3/3 - 0s - 24ms/step - accuracy: 0.8826 - loss: 0.3217 - val_accuracy: 0.6364 - val_loss: 1.1981\n",
      "Epoch 9/130\n",
      "3/3 - 0s - 23ms/step - accuracy: 0.8826 - loss: 0.3069 - val_accuracy: 0.6942 - val_loss: 1.1857\n",
      "Epoch 10/130\n",
      "3/3 - 0s - 23ms/step - accuracy: 0.9057 - loss: 0.2696 - val_accuracy: 0.6942 - val_loss: 1.1740\n",
      "Epoch 11/130\n",
      "3/3 - 0s - 23ms/step - accuracy: 0.9146 - loss: 0.2470 - val_accuracy: 0.6777 - val_loss: 1.1628\n",
      "Epoch 12/130\n",
      "3/3 - 0s - 22ms/step - accuracy: 0.9164 - loss: 0.2361 - val_accuracy: 0.6860 - val_loss: 1.1494\n",
      "Epoch 13/130\n",
      "3/3 - 0s - 23ms/step - accuracy: 0.9342 - loss: 0.1958 - val_accuracy: 0.6860 - val_loss: 1.1354\n",
      "Epoch 14/130\n",
      "3/3 - 0s - 23ms/step - accuracy: 0.9520 - loss: 0.1649 - val_accuracy: 0.6942 - val_loss: 1.1211\n",
      "Epoch 15/130\n",
      "3/3 - 0s - 22ms/step - accuracy: 0.9573 - loss: 0.1633 - val_accuracy: 0.6942 - val_loss: 1.1059\n",
      "Epoch 16/130\n",
      "3/3 - 0s - 22ms/step - accuracy: 0.9448 - loss: 0.1712 - val_accuracy: 0.6942 - val_loss: 1.0893\n",
      "Epoch 17/130\n",
      "3/3 - 0s - 22ms/step - accuracy: 0.9520 - loss: 0.1473 - val_accuracy: 0.7107 - val_loss: 1.0717\n",
      "Epoch 18/130\n",
      "3/3 - 0s - 24ms/step - accuracy: 0.9644 - loss: 0.1426 - val_accuracy: 0.7025 - val_loss: 1.0558\n",
      "Epoch 19/130\n",
      "3/3 - 0s - 25ms/step - accuracy: 0.9555 - loss: 0.1362 - val_accuracy: 0.7355 - val_loss: 1.0405\n",
      "Epoch 20/130\n",
      "3/3 - 0s - 27ms/step - accuracy: 0.9502 - loss: 0.1352 - val_accuracy: 0.7273 - val_loss: 1.0298\n",
      "Epoch 21/130\n",
      "3/3 - 0s - 22ms/step - accuracy: 0.9786 - loss: 0.1033 - val_accuracy: 0.7273 - val_loss: 1.0184\n",
      "Epoch 22/130\n",
      "3/3 - 0s - 23ms/step - accuracy: 0.9822 - loss: 0.1061 - val_accuracy: 0.7355 - val_loss: 1.0104\n",
      "Epoch 23/130\n",
      "3/3 - 0s - 23ms/step - accuracy: 0.9644 - loss: 0.1167 - val_accuracy: 0.7355 - val_loss: 1.0012\n",
      "Epoch 24/130\n",
      "3/3 - 0s - 23ms/step - accuracy: 0.9662 - loss: 0.1162 - val_accuracy: 0.7769 - val_loss: 0.9861\n",
      "Epoch 25/130\n",
      "3/3 - 0s - 23ms/step - accuracy: 0.9662 - loss: 0.1032 - val_accuracy: 0.7934 - val_loss: 0.9697\n",
      "Epoch 26/130\n",
      "3/3 - 0s - 22ms/step - accuracy: 0.9804 - loss: 0.0974 - val_accuracy: 0.8017 - val_loss: 0.9623\n",
      "Epoch 27/130\n",
      "3/3 - 0s - 25ms/step - accuracy: 0.9733 - loss: 0.0927 - val_accuracy: 0.7934 - val_loss: 0.9538\n",
      "Epoch 28/130\n",
      "3/3 - 0s - 23ms/step - accuracy: 0.9769 - loss: 0.0936 - val_accuracy: 0.7769 - val_loss: 0.9447\n",
      "Epoch 29/130\n",
      "3/3 - 0s - 24ms/step - accuracy: 0.9840 - loss: 0.0747 - val_accuracy: 0.7273 - val_loss: 0.9302\n",
      "Epoch 30/130\n",
      "3/3 - 0s - 24ms/step - accuracy: 0.9769 - loss: 0.0776 - val_accuracy: 0.7107 - val_loss: 0.9157\n",
      "Epoch 31/130\n",
      "3/3 - 0s - 24ms/step - accuracy: 0.9947 - loss: 0.0567 - val_accuracy: 0.7190 - val_loss: 0.8998\n",
      "Epoch 32/130\n",
      "3/3 - 0s - 23ms/step - accuracy: 0.9822 - loss: 0.0700 - val_accuracy: 0.7190 - val_loss: 0.8858\n",
      "Epoch 33/130\n",
      "3/3 - 0s - 24ms/step - accuracy: 0.9751 - loss: 0.0857 - val_accuracy: 0.7438 - val_loss: 0.8761\n",
      "Epoch 34/130\n",
      "3/3 - 0s - 24ms/step - accuracy: 0.9858 - loss: 0.0684 - val_accuracy: 0.7769 - val_loss: 0.8648\n",
      "Epoch 35/130\n",
      "3/3 - 0s - 23ms/step - accuracy: 0.9769 - loss: 0.0745 - val_accuracy: 0.8017 - val_loss: 0.8481\n",
      "Epoch 36/130\n",
      "3/3 - 0s - 24ms/step - accuracy: 0.9840 - loss: 0.0631 - val_accuracy: 0.8347 - val_loss: 0.8374\n",
      "Epoch 37/130\n",
      "3/3 - 0s - 24ms/step - accuracy: 0.9911 - loss: 0.0560 - val_accuracy: 0.8347 - val_loss: 0.8232\n",
      "Epoch 38/130\n",
      "3/3 - 0s - 22ms/step - accuracy: 0.9840 - loss: 0.0602 - val_accuracy: 0.8430 - val_loss: 0.8026\n",
      "Epoch 39/130\n",
      "3/3 - 0s - 24ms/step - accuracy: 0.9804 - loss: 0.0634 - val_accuracy: 0.8430 - val_loss: 0.7919\n",
      "Epoch 40/130\n",
      "3/3 - 0s - 22ms/step - accuracy: 0.9875 - loss: 0.0520 - val_accuracy: 0.8430 - val_loss: 0.7802\n",
      "Epoch 41/130\n",
      "3/3 - 0s - 22ms/step - accuracy: 0.9804 - loss: 0.0680 - val_accuracy: 0.8512 - val_loss: 0.7603\n",
      "Epoch 42/130\n",
      "3/3 - 0s - 22ms/step - accuracy: 0.9822 - loss: 0.0589 - val_accuracy: 0.8678 - val_loss: 0.7402\n",
      "Epoch 43/130\n",
      "3/3 - 0s - 23ms/step - accuracy: 0.9875 - loss: 0.0488 - val_accuracy: 0.8843 - val_loss: 0.7322\n",
      "Epoch 44/130\n",
      "3/3 - 0s - 23ms/step - accuracy: 0.9929 - loss: 0.0457 - val_accuracy: 0.8926 - val_loss: 0.7279\n",
      "Epoch 45/130\n",
      "3/3 - 0s - 22ms/step - accuracy: 0.9947 - loss: 0.0428 - val_accuracy: 0.9008 - val_loss: 0.7154\n",
      "Epoch 46/130\n",
      "3/3 - 0s - 24ms/step - accuracy: 0.9858 - loss: 0.0573 - val_accuracy: 0.9174 - val_loss: 0.7025\n",
      "Epoch 47/130\n",
      "3/3 - 0s - 22ms/step - accuracy: 0.9858 - loss: 0.0583 - val_accuracy: 0.9091 - val_loss: 0.6961\n",
      "Epoch 48/130\n",
      "3/3 - 0s - 17ms/step - accuracy: 0.9893 - loss: 0.0501 - val_accuracy: 0.8760 - val_loss: 0.7051\n",
      "Epoch 49/130\n",
      "3/3 - 0s - 17ms/step - accuracy: 0.9893 - loss: 0.0405 - val_accuracy: 0.8264 - val_loss: 0.7153\n",
      "Epoch 50/130\n",
      "3/3 - 0s - 19ms/step - accuracy: 0.9840 - loss: 0.0510 - val_accuracy: 0.8017 - val_loss: 0.7154\n",
      "Epoch 51/130\n",
      "3/3 - 0s - 19ms/step - accuracy: 0.9947 - loss: 0.0391 - val_accuracy: 0.7686 - val_loss: 0.7091\n",
      "Epoch 52/130\n",
      "3/3 - 0s - 19ms/step - accuracy: 0.9911 - loss: 0.0378 - val_accuracy: 0.7603 - val_loss: 0.6975\n",
      "Epoch 53/130\n",
      "3/3 - 0s - 24ms/step - accuracy: 0.9964 - loss: 0.0408 - val_accuracy: 0.7769 - val_loss: 0.6805\n",
      "Epoch 54/130\n",
      "3/3 - 0s - 22ms/step - accuracy: 0.9911 - loss: 0.0428 - val_accuracy: 0.8017 - val_loss: 0.6620\n",
      "Epoch 55/130\n",
      "3/3 - 0s - 24ms/step - accuracy: 0.9893 - loss: 0.0352 - val_accuracy: 0.8264 - val_loss: 0.6416\n",
      "Epoch 56/130\n",
      "3/3 - 0s - 23ms/step - accuracy: 0.9929 - loss: 0.0375 - val_accuracy: 0.8843 - val_loss: 0.6234\n",
      "Epoch 57/130\n",
      "3/3 - 0s - 24ms/step - accuracy: 0.9964 - loss: 0.0363 - val_accuracy: 0.8843 - val_loss: 0.6102\n",
      "Epoch 58/130\n",
      "3/3 - 0s - 22ms/step - accuracy: 0.9947 - loss: 0.0353 - val_accuracy: 0.8926 - val_loss: 0.6024\n",
      "Epoch 59/130\n",
      "3/3 - 0s - 22ms/step - accuracy: 0.9858 - loss: 0.0416 - val_accuracy: 0.9091 - val_loss: 0.5893\n",
      "Epoch 60/130\n",
      "3/3 - 0s - 22ms/step - accuracy: 0.9911 - loss: 0.0423 - val_accuracy: 0.9091 - val_loss: 0.5725\n",
      "Epoch 61/130\n",
      "3/3 - 0s - 22ms/step - accuracy: 0.9858 - loss: 0.0460 - val_accuracy: 0.9008 - val_loss: 0.5500\n",
      "Epoch 62/130\n",
      "3/3 - 0s - 23ms/step - accuracy: 0.9964 - loss: 0.0280 - val_accuracy: 0.9091 - val_loss: 0.5224\n",
      "Epoch 63/130\n",
      "3/3 - 0s - 23ms/step - accuracy: 0.9947 - loss: 0.0355 - val_accuracy: 0.9256 - val_loss: 0.4979\n",
      "Epoch 64/130\n",
      "3/3 - 0s - 23ms/step - accuracy: 0.9947 - loss: 0.0311 - val_accuracy: 0.9256 - val_loss: 0.4729\n",
      "Epoch 65/130\n",
      "3/3 - 0s - 23ms/step - accuracy: 0.9929 - loss: 0.0285 - val_accuracy: 0.9339 - val_loss: 0.4572\n",
      "Epoch 66/130\n",
      "3/3 - 0s - 22ms/step - accuracy: 0.9964 - loss: 0.0330 - val_accuracy: 0.9256 - val_loss: 0.4431\n",
      "Epoch 67/130\n",
      "3/3 - 0s - 24ms/step - accuracy: 0.9964 - loss: 0.0251 - val_accuracy: 0.9339 - val_loss: 0.4313\n",
      "Epoch 68/130\n",
      "3/3 - 0s - 24ms/step - accuracy: 0.9929 - loss: 0.0360 - val_accuracy: 0.9256 - val_loss: 0.4297\n",
      "Epoch 69/130\n",
      "3/3 - 0s - 23ms/step - accuracy: 0.9947 - loss: 0.0264 - val_accuracy: 0.9256 - val_loss: 0.4128\n",
      "Epoch 70/130\n",
      "3/3 - 0s - 24ms/step - accuracy: 0.9964 - loss: 0.0284 - val_accuracy: 0.9256 - val_loss: 0.4076\n",
      "Epoch 71/130\n",
      "3/3 - 0s - 24ms/step - accuracy: 0.9964 - loss: 0.0279 - val_accuracy: 0.9256 - val_loss: 0.4051\n",
      "Epoch 72/130\n",
      "3/3 - 0s - 25ms/step - accuracy: 0.9947 - loss: 0.0230 - val_accuracy: 0.9421 - val_loss: 0.3960\n",
      "Epoch 73/130\n",
      "3/3 - 0s - 22ms/step - accuracy: 0.9947 - loss: 0.0248 - val_accuracy: 0.9421 - val_loss: 0.3873\n",
      "Epoch 74/130\n",
      "3/3 - 0s - 29ms/step - accuracy: 0.9911 - loss: 0.0304 - val_accuracy: 0.9339 - val_loss: 0.3832\n",
      "Epoch 75/130\n",
      "3/3 - 0s - 19ms/step - accuracy: 0.9964 - loss: 0.0257 - val_accuracy: 0.9339 - val_loss: 0.3834\n",
      "Epoch 76/130\n",
      "3/3 - 0s - 24ms/step - accuracy: 0.9947 - loss: 0.0257 - val_accuracy: 0.9256 - val_loss: 0.3774\n",
      "Epoch 77/130\n",
      "3/3 - 0s - 24ms/step - accuracy: 0.9982 - loss: 0.0206 - val_accuracy: 0.9256 - val_loss: 0.3659\n",
      "Epoch 78/130\n",
      "3/3 - 0s - 25ms/step - accuracy: 0.9964 - loss: 0.0244 - val_accuracy: 0.9339 - val_loss: 0.3613\n",
      "Epoch 79/130\n",
      "3/3 - 0s - 17ms/step - accuracy: 0.9982 - loss: 0.0163 - val_accuracy: 0.9421 - val_loss: 0.3636\n",
      "Epoch 80/130\n",
      "3/3 - 0s - 17ms/step - accuracy: 1.0000 - loss: 0.0184 - val_accuracy: 0.9421 - val_loss: 0.3626\n",
      "Epoch 81/130\n",
      "3/3 - 0s - 23ms/step - accuracy: 0.9964 - loss: 0.0189 - val_accuracy: 0.9421 - val_loss: 0.3593\n",
      "Epoch 82/130\n",
      "3/3 - 0s - 22ms/step - accuracy: 0.9947 - loss: 0.0214 - val_accuracy: 0.9421 - val_loss: 0.3555\n",
      "Epoch 83/130\n",
      "3/3 - 0s - 24ms/step - accuracy: 0.9929 - loss: 0.0256 - val_accuracy: 0.9421 - val_loss: 0.3460\n",
      "Epoch 84/130\n",
      "3/3 - 0s - 23ms/step - accuracy: 0.9947 - loss: 0.0247 - val_accuracy: 0.9339 - val_loss: 0.3257\n",
      "Epoch 85/130\n",
      "3/3 - 0s - 24ms/step - accuracy: 0.9982 - loss: 0.0140 - val_accuracy: 0.9421 - val_loss: 0.3007\n",
      "Epoch 86/130\n",
      "3/3 - 0s - 24ms/step - accuracy: 0.9964 - loss: 0.0225 - val_accuracy: 0.9339 - val_loss: 0.2850\n",
      "Epoch 87/130\n",
      "3/3 - 0s - 24ms/step - accuracy: 0.9947 - loss: 0.0234 - val_accuracy: 0.9339 - val_loss: 0.2828\n",
      "Epoch 88/130\n",
      "3/3 - 0s - 18ms/step - accuracy: 0.9947 - loss: 0.0219 - val_accuracy: 0.9421 - val_loss: 0.2914\n",
      "Epoch 89/130\n",
      "3/3 - 0s - 18ms/step - accuracy: 0.9964 - loss: 0.0194 - val_accuracy: 0.9421 - val_loss: 0.3073\n",
      "Epoch 90/130\n",
      "3/3 - 0s - 18ms/step - accuracy: 0.9947 - loss: 0.0205 - val_accuracy: 0.9421 - val_loss: 0.3105\n",
      "Epoch 91/130\n",
      "3/3 - 0s - 17ms/step - accuracy: 1.0000 - loss: 0.0150 - val_accuracy: 0.9339 - val_loss: 0.3162\n",
      "Epoch 92/130\n",
      "3/3 - 0s - 17ms/step - accuracy: 0.9982 - loss: 0.0190 - val_accuracy: 0.9256 - val_loss: 0.3189\n",
      "Epoch 93/130\n",
      "3/3 - 0s - 18ms/step - accuracy: 0.9947 - loss: 0.0194 - val_accuracy: 0.9256 - val_loss: 0.3219\n",
      "Epoch 94/130\n",
      "3/3 - 0s - 18ms/step - accuracy: 0.9947 - loss: 0.0277 - val_accuracy: 0.9256 - val_loss: 0.3296\n",
      "Epoch 95/130\n",
      "3/3 - 0s - 18ms/step - accuracy: 0.9964 - loss: 0.0166 - val_accuracy: 0.9339 - val_loss: 0.3088\n",
      "Epoch 96/130\n",
      "3/3 - 0s - 23ms/step - accuracy: 0.9947 - loss: 0.0214 - val_accuracy: 0.9421 - val_loss: 0.2784\n",
      "Epoch 97/130\n",
      "3/3 - 0s - 23ms/step - accuracy: 0.9947 - loss: 0.0220 - val_accuracy: 0.9421 - val_loss: 0.2548\n",
      "Epoch 98/130\n",
      "3/3 - 0s - 23ms/step - accuracy: 0.9964 - loss: 0.0192 - val_accuracy: 0.9339 - val_loss: 0.2454\n",
      "Epoch 99/130\n",
      "3/3 - 0s - 23ms/step - accuracy: 0.9964 - loss: 0.0205 - val_accuracy: 0.9421 - val_loss: 0.2290\n",
      "Epoch 100/130\n",
      "3/3 - 0s - 24ms/step - accuracy: 0.9982 - loss: 0.0166 - val_accuracy: 0.9421 - val_loss: 0.2102\n",
      "Epoch 101/130\n",
      "3/3 - 0s - 24ms/step - accuracy: 0.9982 - loss: 0.0154 - val_accuracy: 0.9504 - val_loss: 0.1932\n",
      "Epoch 102/130\n",
      "3/3 - 0s - 23ms/step - accuracy: 0.9947 - loss: 0.0180 - val_accuracy: 0.9669 - val_loss: 0.1884\n",
      "Epoch 103/130\n",
      "3/3 - 0s - 19ms/step - accuracy: 0.9982 - loss: 0.0187 - val_accuracy: 0.9504 - val_loss: 0.1952\n",
      "Epoch 104/130\n",
      "3/3 - 0s - 18ms/step - accuracy: 0.9964 - loss: 0.0244 - val_accuracy: 0.9504 - val_loss: 0.2061\n",
      "Epoch 105/130\n",
      "3/3 - 0s - 19ms/step - accuracy: 0.9947 - loss: 0.0201 - val_accuracy: 0.9504 - val_loss: 0.2076\n",
      "Epoch 106/130\n",
      "3/3 - 0s - 19ms/step - accuracy: 0.9982 - loss: 0.0158 - val_accuracy: 0.9504 - val_loss: 0.2070\n",
      "Epoch 107/130\n",
      "3/3 - 0s - 17ms/step - accuracy: 0.9964 - loss: 0.0201 - val_accuracy: 0.9504 - val_loss: 0.2072\n",
      "Epoch 108/130\n",
      "3/3 - 0s - 18ms/step - accuracy: 0.9964 - loss: 0.0184 - val_accuracy: 0.9504 - val_loss: 0.2021\n",
      "Epoch 109/130\n",
      "3/3 - 0s - 19ms/step - accuracy: 0.9947 - loss: 0.0232 - val_accuracy: 0.9504 - val_loss: 0.1938\n",
      "Epoch 110/130\n",
      "3/3 - 0s - 23ms/step - accuracy: 0.9982 - loss: 0.0115 - val_accuracy: 0.9504 - val_loss: 0.1844\n",
      "Epoch 111/130\n",
      "3/3 - 0s - 23ms/step - accuracy: 1.0000 - loss: 0.0109 - val_accuracy: 0.9504 - val_loss: 0.1741\n",
      "Epoch 112/130\n",
      "3/3 - 0s - 23ms/step - accuracy: 0.9964 - loss: 0.0150 - val_accuracy: 0.9504 - val_loss: 0.1661\n",
      "Epoch 113/130\n",
      "3/3 - 0s - 23ms/step - accuracy: 0.9947 - loss: 0.0191 - val_accuracy: 0.9587 - val_loss: 0.1597\n",
      "Epoch 114/130\n",
      "3/3 - 0s - 18ms/step - accuracy: 0.9982 - loss: 0.0178 - val_accuracy: 0.9504 - val_loss: 0.1673\n",
      "Epoch 115/130\n",
      "3/3 - 0s - 20ms/step - accuracy: 0.9929 - loss: 0.0184 - val_accuracy: 0.9504 - val_loss: 0.1695\n",
      "Epoch 116/130\n",
      "3/3 - 0s - 23ms/step - accuracy: 0.9964 - loss: 0.0177 - val_accuracy: 0.9504 - val_loss: 0.1536\n",
      "Epoch 117/130\n",
      "3/3 - 0s - 24ms/step - accuracy: 0.9964 - loss: 0.0164 - val_accuracy: 0.9504 - val_loss: 0.1423\n",
      "Epoch 118/130\n",
      "3/3 - 0s - 23ms/step - accuracy: 0.9982 - loss: 0.0112 - val_accuracy: 0.9504 - val_loss: 0.1323\n",
      "Epoch 119/130\n",
      "3/3 - 0s - 24ms/step - accuracy: 0.9982 - loss: 0.0139 - val_accuracy: 0.9504 - val_loss: 0.1278\n",
      "Epoch 120/130\n",
      "3/3 - 0s - 17ms/step - accuracy: 0.9929 - loss: 0.0233 - val_accuracy: 0.9504 - val_loss: 0.1287\n",
      "Epoch 121/130\n",
      "3/3 - 0s - 25ms/step - accuracy: 0.9964 - loss: 0.0136 - val_accuracy: 0.9421 - val_loss: 0.1218\n",
      "Epoch 122/130\n",
      "3/3 - 0s - 24ms/step - accuracy: 0.9964 - loss: 0.0133 - val_accuracy: 0.9587 - val_loss: 0.1038\n",
      "Epoch 123/130\n",
      "3/3 - 0s - 24ms/step - accuracy: 1.0000 - loss: 0.0104 - val_accuracy: 0.9835 - val_loss: 0.0894\n",
      "Epoch 124/130\n",
      "3/3 - 0s - 22ms/step - accuracy: 0.9964 - loss: 0.0148 - val_accuracy: 1.0000 - val_loss: 0.0740\n",
      "Epoch 125/130\n",
      "3/3 - 0s - 22ms/step - accuracy: 0.9982 - loss: 0.0106 - val_accuracy: 1.0000 - val_loss: 0.0650\n",
      "Epoch 126/130\n",
      "3/3 - 0s - 23ms/step - accuracy: 0.9964 - loss: 0.0127 - val_accuracy: 1.0000 - val_loss: 0.0636\n",
      "Epoch 127/130\n",
      "3/3 - 0s - 22ms/step - accuracy: 1.0000 - loss: 0.0080 - val_accuracy: 1.0000 - val_loss: 0.0620\n",
      "Epoch 128/130\n",
      "3/3 - 0s - 23ms/step - accuracy: 0.9982 - loss: 0.0138 - val_accuracy: 1.0000 - val_loss: 0.0499\n",
      "Epoch 129/130\n",
      "3/3 - 0s - 22ms/step - accuracy: 1.0000 - loss: 0.0106 - val_accuracy: 1.0000 - val_loss: 0.0426\n",
      "Epoch 130/130\n",
      "3/3 - 0s - 23ms/step - accuracy: 0.9982 - loss: 0.0157 - val_accuracy: 1.0000 - val_loss: 0.0375\n"
     ]
    }
   ],
   "source": [
    "checkpoint = callbacks.ModelCheckpoint(\n",
    "    \"best_model.keras\", save_best_only=True, monitor='val_loss')\n",
    "\n",
    "history = model.fit(\n",
    "    X_train, y_train,\n",
    "    epochs=130,\n",
    "    batch_size=256,\n",
    "    validation_data=(X_val, y_val),\n",
    "    callbacks=[checkpoint],\n",
    "    verbose=2)\n"
   ]
  },
  {
   "cell_type": "markdown",
   "metadata": {},
   "source": [
    "## Evaluación"
   ]
  },
  {
   "cell_type": "code",
   "execution_count": 6,
   "metadata": {},
   "outputs": [
    {
     "name": "stdout",
     "output_type": "stream",
     "text": [
      "Accuracy en test: 1.000\n",
      "\u001b[1m4/4\u001b[0m \u001b[32m━━━━━━━━━━━━━━━━━━━━\u001b[0m\u001b[37m\u001b[0m \u001b[1m0s\u001b[0m 43ms/step\n",
      "[[29  0  0  0]\n",
      " [ 0 31  0  0]\n",
      " [ 0  0 40  0]\n",
      " [ 0  0  0 21]]\n",
      "                 precision    recall  f1-score   support\n",
      "\n",
      "BRAZOS_CRUZADOS       1.00      1.00      1.00        29\n",
      "         FIRMES       1.00      1.00      1.00        31\n",
      "           OTRO       1.00      1.00      1.00        40\n",
      " POSICION_FETAL       1.00      1.00      1.00        21\n",
      "\n",
      "       accuracy                           1.00       121\n",
      "      macro avg       1.00      1.00      1.00       121\n",
      "   weighted avg       1.00      1.00      1.00       121\n",
      "\n"
     ]
    }
   ],
   "source": [
    "test_loss, test_acc = model.evaluate(X_test, y_test, verbose=0)\n",
    "print(f\"Accuracy en test: {test_acc:.3f}\")\n",
    "\n",
    "\n",
    "y_pred = model.predict(X_test)\n",
    "cm = confusion_matrix(y_test.argmax(1), y_pred.argmax(1))\n",
    "print(cm)\n",
    "print(classification_report(y_test.argmax(1), y_pred.argmax(1), target_names=poses_lb.classes_))\n",
    "\n",
    "#Distancia cosenoidal entre los datos (Por cada clase)\n",
    "#Tomar 10 frames de cada segundo"
   ]
  },
  {
   "cell_type": "markdown",
   "metadata": {},
   "source": [
    "## Graficas de resultados"
   ]
  },
  {
   "cell_type": "code",
   "execution_count": 7,
   "metadata": {},
   "outputs": [
    {
     "data": {
      "image/png": "[encoded data removed]",
      "text/plain": [
       "<Figure size 640x480 with 1 Axes>"
      ]
     },
     "metadata": {},
     "output_type": "display_data"
    },
    {
     "data": {
      "image/png": "[encoded data removed]",
      "text/plain": [
       "<Figure size 640x480 with 1 Axes>"
      ]
     },
     "metadata": {},
     "output_type": "display_data"
    }
   ],
   "source": [
    "#Evaluar resultados\n",
    "plt.plot(history.history['accuracy'])\n",
    "plt.plot(history.history['val_accuracy'])\n",
    "plt.title('Precision del modelo')\n",
    "plt.ylabel('Precision')\n",
    "plt.xlabel('Epoch')\n",
    "plt.legend(['Train', 'Test'], loc='upper left')\n",
    "plt.show()\n",
    "\n",
    "#Funcion de perdida\n",
    "plt.plot(history.history['loss'])\n",
    "plt.plot(history.history['val_loss'])\n",
    "plt.title('Funcion de perdida del modelo')\n",
    "plt.ylabel('Funcion de perdida')\n",
    "plt.xlabel('Epoch')\n",
    "plt.legend(['Train', 'Test'], loc='upper left')\n",
    "plt.show()"
   ]
  },
  {
   "cell_type": "markdown",
   "metadata": {},
   "source": [
    "## Uso del modelo para predicción"
   ]
  },
  {
   "cell_type": "code",
   "execution_count": 8,
   "metadata": {},
   "outputs": [
    {
     "name": "stderr",
     "output_type": "stream",
     "text": [
      "WARNING: All log messages before absl::InitializeLog() is called are written to STDERR\n",
      "I0000 00:00:1752468829.045209  246163 gl_context_egl.cc:85] Successfully initialized EGL. Major : 1 Minor: 5\n",
      "I0000 00:00:1752468829.086264  264519 gl_context.cc:369] GL version: 3.2 (OpenGL ES 3.2 NVIDIA 550.144.03), renderer: NVIDIA GeForce RTX 4060 Laptop GPU/PCIe/SSE2\n",
      "INFO: Created TensorFlow Lite XNNPACK delegate for CPU.\n",
      "W0000 00:00:1752468829.122143  264487 inference_feedback_manager.cc:114] Feedback manager requires a model with a single signature inference. Disabling support for feedback tensors.\n",
      "W0000 00:00:1752468829.182535  264514 inference_feedback_manager.cc:114] Feedback manager requires a model with a single signature inference. Disabling support for feedback tensors.\n",
      "W0000 00:00:1752468829.231970  264514 landmark_projection_calculator.cc:186] Using NORM_RECT without IMAGE_DIMENSIONS is only supported for the square ROI. Provide IMAGE_DIMENSIONS or use PROJECTION_MATRIX.\n"
     ]
    },
    {
     "name": "stdout",
     "output_type": "stream",
     "text": [
      "Analizando Imagen\n",
      "[[ 5.23094952e-01  1.20680392e-01 -1.10749304e+00  5.37418842e-01\n",
      "   1.05304182e-01 -1.07233155e+00  5.49823105e-01  1.05817318e-01\n",
      "  -1.07322717e+00  5.60983956e-01  1.06848300e-01 -1.07332516e+00\n",
      "   5.05701184e-01  1.06525421e-01 -1.07854617e+00  4.95015621e-01\n",
      "   1.07866347e-01 -1.07934701e+00  4.83532339e-01  1.09528184e-01\n",
      "  -1.07992828e+00  5.72957575e-01  1.16865985e-01 -8.04148138e-01\n",
      "   4.63324785e-01  1.23029411e-01 -8.28087091e-01  5.46302676e-01\n",
      "   1.43062979e-01 -9.96362388e-01  5.04535496e-01  1.43918991e-01\n",
      "  -1.00809872e+00  6.69096351e-01  2.40315020e-01 -5.91766596e-01\n",
      "   3.77037197e-01  2.49148011e-01 -5.93166471e-01  7.08043098e-01\n",
      "   3.88647765e-01 -4.70983297e-01  3.44794154e-01  4.02575284e-01\n",
      "  -6.12991154e-01  7.09387064e-01  5.13113260e-01 -6.41297638e-01\n",
      "   3.61843735e-01  5.28976023e-01 -8.68515193e-01  7.05571771e-01\n",
      "   5.57663202e-01 -7.12927341e-01  3.61250997e-01  5.70110023e-01\n",
      "  -9.64822769e-01  6.83457613e-01  5.57052135e-01 -7.97202587e-01\n",
      "   3.92794609e-01  5.65950871e-01 -1.03194320e+00  6.74498498e-01\n",
      "   5.35916030e-01 -6.74958348e-01  4.02728260e-01  5.51903963e-01\n",
      "  -9.02611196e-01  6.10358715e-01  4.96459365e-01 -7.93849002e-04\n",
      "   4.47311252e-01  4.96071011e-01  3.37037927e-04  6.22985363e-01\n",
      "   6.91470504e-01  3.91793950e-03  4.48234051e-01  6.85586572e-01\n",
      "  -1.46142859e-02  6.27599120e-01  8.50855350e-01  5.21930873e-01\n",
      "   4.77188498e-01  8.53891551e-01  4.06575888e-01  6.08110428e-01\n",
      "   8.66591930e-01  5.53657353e-01  5.02714157e-01  8.72885823e-01\n",
      "   4.33710784e-01  6.48224413e-01  9.33161795e-01  2.40060464e-01\n",
      "   4.50663149e-01  9.26787019e-01  1.15999416e-01]]\n",
      "1\n",
      "\u001b[1m1/1\u001b[0m \u001b[32m━━━━━━━━━━━━━━━━━━━━\u001b[0m\u001b[37m\u001b[0m \u001b[1m0s\u001b[0m 155ms/step\n",
      "[[1.2282697e-05 2.3314342e-04 9.9939036e-01 3.6414925e-04]]\n",
      "['OTRO']\n"
     ]
    }
   ],
   "source": [
    "from ExtraeFrame import IMAGEN\n",
    "\n",
    "imagen=IMAGEN(\"Fotos/foto1.png\")\n",
    "x_new=imagen.extrae(muestra=True)\n",
    "x_new=np.array([x_new])\n",
    "print(x_new)\n",
    "print(len(x_new))\n",
    "\n",
    "prediccion  = model.predict(x_new)\n",
    "print (prediccion)\n",
    "label  = poses_lb.inverse_transform(prediccion)\n",
    "print(label)\n"
   ]
  }
 ],
 "metadata": {
  "kernelspec": {
   "display_name": "timelessTuring",
   "language": "python",
   "name": "python3"
  },
  "language_info": {
   "codemirror_mode": {
    "name": "ipython",
    "version": 3
   },
   "file_extension": ".py",
   "mimetype": "text/x-python",
   "name": "python",
   "nbconvert_exporter": "python",
   "pygments_lexer": "ipython3",
   "version": "3.10.16"
  }
 },
 "nbformat": 4,
 "nbformat_minor": 2
}
