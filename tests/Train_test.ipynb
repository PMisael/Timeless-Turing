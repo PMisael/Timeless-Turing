{
 "cells": [
  {
   "cell_type": "markdown",
   "metadata": {},
   "source": [
    "# Red neuronal para predecir poses"
   ]
  },
  {
   "cell_type": "markdown",
   "metadata": {},
   "source": [
    "## Importar librerias"
   ]
  },
  {
   "cell_type": "code",
   "execution_count": 1,
   "metadata": {},
   "outputs": [
    {
     "name": "stderr",
     "output_type": "stream",
     "text": [
      "2025-07-16 15:37:46.401764: I tensorflow/core/util/port.cc:153] oneDNN custom operations are on. You may see slightly different numerical results due to floating-point round-off errors from different computation orders. To turn them off, set the environment variable `TF_ENABLE_ONEDNN_OPTS=0`.\n",
      "2025-07-16 15:37:46.409330: E external/local_xla/xla/stream_executor/cuda/cuda_fft.cc:467] Unable to register cuFFT factory: Attempting to register factory for plugin cuFFT when one has already been registered\n",
      "WARNING: All log messages before absl::InitializeLog() is called are written to STDERR\n",
      "E0000 00:00:1752701866.417956   78605 cuda_dnn.cc:8579] Unable to register cuDNN factory: Attempting to register factory for plugin cuDNN when one has already been registered\n",
      "E0000 00:00:1752701866.420465   78605 cuda_blas.cc:1407] Unable to register cuBLAS factory: Attempting to register factory for plugin cuBLAS when one has already been registered\n",
      "W0000 00:00:1752701866.427067   78605 computation_placer.cc:177] computation placer already registered. Please check linkage and avoid linking the same target more than once.\n",
      "W0000 00:00:1752701866.427077   78605 computation_placer.cc:177] computation placer already registered. Please check linkage and avoid linking the same target more than once.\n",
      "W0000 00:00:1752701866.427078   78605 computation_placer.cc:177] computation placer already registered. Please check linkage and avoid linking the same target more than once.\n",
      "W0000 00:00:1752701866.427078   78605 computation_placer.cc:177] computation placer already registered. Please check linkage and avoid linking the same target more than once.\n",
      "2025-07-16 15:37:46.429412: I tensorflow/core/platform/cpu_feature_guard.cc:210] This TensorFlow binary is optimized to use available CPU instructions in performance-critical operations.\n",
      "To enable the following instructions: AVX2 AVX_VNNI FMA, in other operations, rebuild TensorFlow with the appropriate compiler flags.\n"
     ]
    }
   ],
   "source": [
    "import pandas as pd\n",
    "import numpy as np\n",
    "from pathlib import Path\n",
    "from matplotlib import pyplot as plt\n",
    "\n",
    "from keras import layers,callbacks\n",
    "from keras.models import Sequential, load_model\n",
    "from keras.optimizers import Adam\n",
    "\n",
    "from sklearn.preprocessing import LabelBinarizer\n",
    "from sklearn.model_selection import train_test_split\n",
    "from sklearn.metrics import confusion_matrix, classification_report"
   ]
  },
  {
   "cell_type": "markdown",
   "metadata": {},
   "source": [
    "## Preparar datos"
   ]
  },
  {
   "cell_type": "code",
   "execution_count": 2,
   "metadata": {},
   "outputs": [
    {
     "name": "stdout",
     "output_type": "stream",
     "text": [
      "[[0 0 1 0]\n",
      " [0 0 1 0]\n",
      " [0 0 1 0]\n",
      " ...\n",
      " [0 0 0 1]\n",
      " [0 0 0 1]\n",
      " [0 0 0 1]] 0                 OTRO\n",
      "1                 OTRO\n",
      "2                 OTRO\n",
      "3                 OTRO\n",
      "4                 OTRO\n",
      "             ...      \n",
      "2080    POSICION_FETAL\n",
      "2081    POSICION_FETAL\n",
      "2082    POSICION_FETAL\n",
      "2083    POSICION_FETAL\n",
      "2084    POSICION_FETAL\n",
      "Name: label, Length: 2085, dtype: object\n",
      "[[0 0 1 0]\n",
      " [0 0 1 0]\n",
      " [0 0 1 0]\n",
      " ...\n",
      " [0 0 0 1]\n",
      " [0 0 0 1]\n",
      " [0 0 0 1]] 0                 OTRO\n",
      "1                 OTRO\n",
      "2                 OTRO\n",
      "3                 OTRO\n",
      "4                 OTRO\n",
      "             ...      \n",
      "1461    POSICION_FETAL\n",
      "1462    POSICION_FETAL\n",
      "1463    POSICION_FETAL\n",
      "1464    POSICION_FETAL\n",
      "1465    POSICION_FETAL\n",
      "Name: label, Length: 1466, dtype: object\n"
     ]
    }
   ],
   "source": [
    "DATA      = Path(\"../data\").resolve()\n",
    "TRAIN_VAL = DATA / \"train_val_csv\"\n",
    "TEST      = DATA / \"test_csv\"\n",
    "Salida    = Path(\"dataset_completo.csv\")\n",
    "#\n",
    "# Unir los csvs de entrenamiento para hacer uno solo\n",
    "csvs = [p for p in DATA.rglob(\"*.csv\") if p.parent==TRAIN_VAL and p.stem!=Salida.stem]\n",
    "df_train =pd.concat((pd.read_csv(f) for f in csvs),ignore_index=True)\n",
    "df_train = df_train.drop_duplicates().reset_index(drop=True)\n",
    "df_train.to_csv(TRAIN_VAL/Salida, index=False, float_format=\"%.6f\")\n",
    "\n",
    "X_train_val= df_train.drop(columns=['label'])\n",
    "Y_train_val= df_train['label']\n",
    "\n",
    "poses_lb   =LabelBinarizer()\n",
    "Y_oh_train_val =poses_lb.fit_transform(Y_train_val)\n",
    "print(Y_oh_train_val,Y_train_val)\n",
    "\n",
    "#\n",
    "# Unir los csvs de prueba para hacer uno solo\n",
    "csvs = [p for p in DATA.rglob(\"*.csv\") if p.parent==TEST and p.stem!=Salida.stem]\n",
    "df_test =pd.concat((pd.read_csv(f) for f in csvs),ignore_index=True)\n",
    "df_test = df_test.drop_duplicates().reset_index(drop=True)\n",
    "df_test.to_csv(TEST/Salida, index=False, float_format=\"%.6f\")\n",
    "\n",
    "X_test= df_test.drop(columns=['label'])\n",
    "Y_test= df_test['label']\n",
    "\n",
    "Y_oh_test =poses_lb.fit_transform(Y_test)\n",
    "print(Y_oh_test,Y_test)"
   ]
  },
  {
   "cell_type": "markdown",
   "metadata": {},
   "source": [
    "## Preparar datos (Test)"
   ]
  },
  {
   "cell_type": "markdown",
   "metadata": {},
   "source": [
    "## Dividir datos en:\n",
    "* Entrenamiento = 80%\n",
    "* Validación = 20%"
   ]
  },
  {
   "cell_type": "code",
   "execution_count": 3,
   "metadata": {},
   "outputs": [],
   "source": [
    "X_train, X_val, y_train, y_val = train_test_split(\n",
    "    X_train_val, Y_oh_train_val, test_size=0.20, stratify=Y_train_val, random_state=42)"
   ]
  },
  {
   "cell_type": "markdown",
   "metadata": {},
   "source": [
    "## Definicion y compilacion de Red Neuronal"
   ]
  },
  {
   "cell_type": "code",
   "execution_count": 4,
   "metadata": {},
   "outputs": [
    {
     "name": "stderr",
     "output_type": "stream",
     "text": [
      "I0000 00:00:1752701867.838477   78605 gpu_device.cc:2019] Created device /job:localhost/replica:0/task:0/device:GPU:0 with 4958 MB memory:  -> device: 0, name: NVIDIA GeForce RTX 4060 Laptop GPU, pci bus id: 0000:01:00.0, compute capability: 8.9\n"
     ]
    }
   ],
   "source": [
    "n_features = X_train.shape[1]\n",
    "n_classes  = y_train.shape[1]\n",
    "#print(n_features,n_classes)\n",
    "#\n",
    "model = Sequential([\n",
    "    layers.Input( shape=(n_features,)),\n",
    "    layers.Dense(128, activation='relu'),\n",
    "    layers.BatchNormalization(),\n",
    "    layers.Dropout(0.30),\n",
    "    layers.Dense(64, activation='relu'),\n",
    "    layers.BatchNormalization(),\n",
    "    layers.Dropout(0.30),\n",
    "    layers.Dense(n_classes, activation='softmax')\n",
    "])\n",
    "model.compile(\n",
    "    optimizer=Adam(learning_rate=1e-3),\n",
    "    loss='categorical_crossentropy',\n",
    "    metrics=['accuracy'])"
   ]
  },
  {
   "cell_type": "markdown",
   "metadata": {},
   "source": [
    "## Entrenamiento"
   ]
  },
  {
   "cell_type": "code",
   "execution_count": 5,
   "metadata": {},
   "outputs": [
    {
     "name": "stdout",
     "output_type": "stream",
     "text": [
      "Epoch 1/100\n"
     ]
    },
    {
     "name": "stderr",
     "output_type": "stream",
     "text": [
      "WARNING: All log messages before absl::InitializeLog() is called are written to STDERR\n",
      "I0000 00:00:1752701868.888290   78763 service.cc:152] XLA service 0x7a39a800ee60 initialized for platform CUDA (this does not guarantee that XLA will be used). Devices:\n",
      "I0000 00:00:1752701868.888302   78763 service.cc:160]   StreamExecutor device (0): NVIDIA GeForce RTX 4060 Laptop GPU, Compute Capability 8.9\n",
      "2025-07-16 15:37:48.906381: I tensorflow/compiler/mlir/tensorflow/utils/dump_mlir_util.cc:269] disabling MLIR crash reproducer, set env var `MLIR_CRASH_REPRODUCER_DIRECTORY` to enable.\n",
      "I0000 00:00:1752701869.004062   78763 cuda_dnn.cc:529] Loaded cuDNN version 90300\n",
      "I0000 00:00:1752701870.265128   78763 device_compiler.h:188] Compiled cluster using XLA!  This line is logged at most once for the lifetime of the process.\n",
      "2025-07-16 15:37:50.867637: I external/local_xla/xla/stream_executor/cuda/subprocess_compilation.cc:346] ptxas warning : Registers are spilled to local memory in function 'gemm_fusion_dot_1496', 140 bytes spill stores, 140 bytes spill loads\n",
      "\n"
     ]
    },
    {
     "name": "stdout",
     "output_type": "stream",
     "text": [
      "7/7 - 4s - 533ms/step - accuracy: 0.5540 - loss: 1.1675 - val_accuracy: 0.2158 - val_loss: 1.4017\n",
      "Epoch 2/100\n",
      "7/7 - 0s - 9ms/step - accuracy: 0.7614 - loss: 0.6459 - val_accuracy: 0.2110 - val_loss: 1.4192\n",
      "Epoch 3/100\n",
      "7/7 - 0s - 10ms/step - accuracy: 0.8327 - loss: 0.4800 - val_accuracy: 0.2230 - val_loss: 1.3771\n",
      "Epoch 4/100\n",
      "7/7 - 0s - 11ms/step - accuracy: 0.8861 - loss: 0.3620 - val_accuracy: 0.2398 - val_loss: 1.3018\n",
      "Epoch 5/100\n",
      "7/7 - 0s - 11ms/step - accuracy: 0.8897 - loss: 0.3245 - val_accuracy: 0.2518 - val_loss: 1.2473\n",
      "Epoch 6/100\n",
      "7/7 - 0s - 11ms/step - accuracy: 0.9269 - loss: 0.2452 - val_accuracy: 0.2878 - val_loss: 1.1998\n",
      "Epoch 7/100\n",
      "7/7 - 0s - 11ms/step - accuracy: 0.9305 - loss: 0.2208 - val_accuracy: 0.3333 - val_loss: 1.1468\n",
      "Epoch 8/100\n",
      "7/7 - 0s - 11ms/step - accuracy: 0.9430 - loss: 0.1919 - val_accuracy: 0.5204 - val_loss: 1.0938\n",
      "Epoch 9/100\n",
      "7/7 - 0s - 11ms/step - accuracy: 0.9442 - loss: 0.1724 - val_accuracy: 0.6595 - val_loss: 1.0326\n",
      "Epoch 10/100\n",
      "7/7 - 0s - 11ms/step - accuracy: 0.9502 - loss: 0.1558 - val_accuracy: 0.6930 - val_loss: 0.9865\n",
      "Epoch 11/100\n",
      "7/7 - 0s - 11ms/step - accuracy: 0.9562 - loss: 0.1528 - val_accuracy: 0.7242 - val_loss: 0.9493\n",
      "Epoch 12/100\n",
      "7/7 - 0s - 11ms/step - accuracy: 0.9574 - loss: 0.1277 - val_accuracy: 0.7554 - val_loss: 0.9185\n",
      "Epoch 13/100\n",
      "7/7 - 0s - 11ms/step - accuracy: 0.9592 - loss: 0.1258 - val_accuracy: 0.7986 - val_loss: 0.8612\n",
      "Epoch 14/100\n",
      "7/7 - 0s - 11ms/step - accuracy: 0.9706 - loss: 0.1127 - val_accuracy: 0.7938 - val_loss: 0.8158\n",
      "Epoch 15/100\n",
      "7/7 - 0s - 11ms/step - accuracy: 0.9706 - loss: 0.1030 - val_accuracy: 0.7842 - val_loss: 0.7920\n",
      "Epoch 16/100\n",
      "7/7 - 0s - 11ms/step - accuracy: 0.9706 - loss: 0.0956 - val_accuracy: 0.8153 - val_loss: 0.7461\n",
      "Epoch 17/100\n",
      "7/7 - 0s - 11ms/step - accuracy: 0.9694 - loss: 0.0986 - val_accuracy: 0.8153 - val_loss: 0.7054\n",
      "Epoch 18/100\n",
      "7/7 - 0s - 9ms/step - accuracy: 0.9724 - loss: 0.0878 - val_accuracy: 0.7770 - val_loss: 0.7078\n",
      "Epoch 19/100\n",
      "7/7 - 0s - 11ms/step - accuracy: 0.9700 - loss: 0.0973 - val_accuracy: 0.7842 - val_loss: 0.6792\n",
      "Epoch 20/100\n",
      "7/7 - 0s - 11ms/step - accuracy: 0.9838 - loss: 0.0708 - val_accuracy: 0.8369 - val_loss: 0.6299\n",
      "Epoch 21/100\n",
      "7/7 - 0s - 11ms/step - accuracy: 0.9820 - loss: 0.0658 - val_accuracy: 0.8129 - val_loss: 0.6246\n",
      "Epoch 22/100\n",
      "7/7 - 0s - 9ms/step - accuracy: 0.9826 - loss: 0.0633 - val_accuracy: 0.7890 - val_loss: 0.6302\n",
      "Epoch 23/100\n",
      "7/7 - 0s - 11ms/step - accuracy: 0.9784 - loss: 0.0718 - val_accuracy: 0.8010 - val_loss: 0.6063\n",
      "Epoch 24/100\n",
      "7/7 - 0s - 11ms/step - accuracy: 0.9850 - loss: 0.0600 - val_accuracy: 0.8129 - val_loss: 0.5807\n",
      "Epoch 25/100\n",
      "7/7 - 0s - 11ms/step - accuracy: 0.9850 - loss: 0.0604 - val_accuracy: 0.8273 - val_loss: 0.5487\n",
      "Epoch 26/100\n",
      "7/7 - 0s - 9ms/step - accuracy: 0.9808 - loss: 0.0646 - val_accuracy: 0.8177 - val_loss: 0.5531\n",
      "Epoch 27/100\n",
      "7/7 - 0s - 11ms/step - accuracy: 0.9880 - loss: 0.0531 - val_accuracy: 0.8321 - val_loss: 0.5327\n",
      "Epoch 28/100\n",
      "7/7 - 0s - 12ms/step - accuracy: 0.9886 - loss: 0.0540 - val_accuracy: 0.8010 - val_loss: 0.5272\n",
      "Epoch 29/100\n",
      "7/7 - 0s - 11ms/step - accuracy: 0.9832 - loss: 0.0560 - val_accuracy: 0.8537 - val_loss: 0.4565\n",
      "Epoch 30/100\n",
      "7/7 - 0s - 9ms/step - accuracy: 0.9844 - loss: 0.0538 - val_accuracy: 0.8537 - val_loss: 0.4572\n",
      "Epoch 31/100\n",
      "7/7 - 0s - 9ms/step - accuracy: 0.9868 - loss: 0.0458 - val_accuracy: 0.8345 - val_loss: 0.4811\n",
      "Epoch 32/100\n",
      "7/7 - 0s - 11ms/step - accuracy: 0.9868 - loss: 0.0434 - val_accuracy: 0.8417 - val_loss: 0.4558\n",
      "Epoch 33/100\n",
      "7/7 - 0s - 11ms/step - accuracy: 0.9868 - loss: 0.0463 - val_accuracy: 0.8249 - val_loss: 0.4508\n",
      "Epoch 34/100\n",
      "7/7 - 0s - 9ms/step - accuracy: 0.9880 - loss: 0.0420 - val_accuracy: 0.8129 - val_loss: 0.4641\n",
      "Epoch 35/100\n",
      "7/7 - 0s - 11ms/step - accuracy: 0.9934 - loss: 0.0320 - val_accuracy: 0.8393 - val_loss: 0.4315\n",
      "Epoch 36/100\n",
      "7/7 - 0s - 12ms/step - accuracy: 0.9874 - loss: 0.0419 - val_accuracy: 0.8633 - val_loss: 0.4024\n",
      "Epoch 37/100\n",
      "7/7 - 0s - 11ms/step - accuracy: 0.9862 - loss: 0.0411 - val_accuracy: 0.8801 - val_loss: 0.3693\n",
      "Epoch 38/100\n",
      "7/7 - 0s - 11ms/step - accuracy: 0.9898 - loss: 0.0416 - val_accuracy: 0.9017 - val_loss: 0.3391\n",
      "Epoch 39/100\n",
      "7/7 - 0s - 9ms/step - accuracy: 0.9928 - loss: 0.0328 - val_accuracy: 0.8921 - val_loss: 0.3536\n",
      "Epoch 40/100\n",
      "7/7 - 0s - 11ms/step - accuracy: 0.9904 - loss: 0.0351 - val_accuracy: 0.9041 - val_loss: 0.3037\n",
      "Epoch 41/100\n",
      "7/7 - 0s - 12ms/step - accuracy: 0.9904 - loss: 0.0370 - val_accuracy: 0.9161 - val_loss: 0.2709\n",
      "Epoch 42/100\n",
      "7/7 - 0s - 11ms/step - accuracy: 0.9916 - loss: 0.0344 - val_accuracy: 0.9185 - val_loss: 0.2599\n",
      "Epoch 43/100\n",
      "7/7 - 0s - 11ms/step - accuracy: 0.9898 - loss: 0.0335 - val_accuracy: 0.9209 - val_loss: 0.2577\n",
      "Epoch 44/100\n",
      "7/7 - 0s - 11ms/step - accuracy: 0.9910 - loss: 0.0360 - val_accuracy: 0.9544 - val_loss: 0.1950\n",
      "Epoch 45/100\n",
      "7/7 - 0s - 12ms/step - accuracy: 0.9874 - loss: 0.0405 - val_accuracy: 0.9664 - val_loss: 0.1680\n",
      "Epoch 46/100\n",
      "7/7 - 0s - 12ms/step - accuracy: 0.9916 - loss: 0.0277 - val_accuracy: 0.9712 - val_loss: 0.1526\n",
      "Epoch 47/100\n",
      "7/7 - 0s - 9ms/step - accuracy: 0.9892 - loss: 0.0332 - val_accuracy: 0.9448 - val_loss: 0.1790\n",
      "Epoch 48/100\n",
      "7/7 - 0s - 9ms/step - accuracy: 0.9910 - loss: 0.0299 - val_accuracy: 0.9544 - val_loss: 0.1694\n",
      "Epoch 49/100\n",
      "7/7 - 0s - 11ms/step - accuracy: 0.9892 - loss: 0.0317 - val_accuracy: 0.9688 - val_loss: 0.1300\n",
      "Epoch 50/100\n",
      "7/7 - 0s - 9ms/step - accuracy: 0.9916 - loss: 0.0316 - val_accuracy: 0.9592 - val_loss: 0.1405\n",
      "Epoch 51/100\n",
      "7/7 - 0s - 12ms/step - accuracy: 0.9928 - loss: 0.0260 - val_accuracy: 0.9712 - val_loss: 0.1201\n",
      "Epoch 52/100\n",
      "7/7 - 0s - 9ms/step - accuracy: 0.9964 - loss: 0.0227 - val_accuracy: 0.9760 - val_loss: 0.1259\n",
      "Epoch 53/100\n",
      "7/7 - 0s - 11ms/step - accuracy: 0.9910 - loss: 0.0284 - val_accuracy: 0.9760 - val_loss: 0.1187\n",
      "Epoch 54/100\n",
      "7/7 - 0s - 9ms/step - accuracy: 0.9934 - loss: 0.0270 - val_accuracy: 0.9664 - val_loss: 0.1333\n",
      "Epoch 55/100\n",
      "7/7 - 0s - 11ms/step - accuracy: 0.9928 - loss: 0.0278 - val_accuracy: 0.9904 - val_loss: 0.0818\n",
      "Epoch 56/100\n",
      "7/7 - 0s - 9ms/step - accuracy: 0.9952 - loss: 0.0239 - val_accuracy: 0.9808 - val_loss: 0.1035\n",
      "Epoch 57/100\n",
      "7/7 - 0s - 11ms/step - accuracy: 0.9946 - loss: 0.0208 - val_accuracy: 0.9904 - val_loss: 0.0696\n",
      "Epoch 58/100\n",
      "7/7 - 0s - 10ms/step - accuracy: 0.9898 - loss: 0.0290 - val_accuracy: 0.9808 - val_loss: 0.0780\n",
      "Epoch 59/100\n",
      "7/7 - 0s - 9ms/step - accuracy: 0.9940 - loss: 0.0243 - val_accuracy: 0.9808 - val_loss: 0.0858\n",
      "Epoch 60/100\n",
      "7/7 - 0s - 9ms/step - accuracy: 0.9946 - loss: 0.0238 - val_accuracy: 0.9856 - val_loss: 0.0716\n",
      "Epoch 61/100\n",
      "7/7 - 0s - 11ms/step - accuracy: 0.9946 - loss: 0.0241 - val_accuracy: 0.9952 - val_loss: 0.0651\n",
      "Epoch 62/100\n",
      "7/7 - 0s - 9ms/step - accuracy: 0.9946 - loss: 0.0217 - val_accuracy: 0.9760 - val_loss: 0.0685\n",
      "Epoch 63/100\n",
      "7/7 - 0s - 9ms/step - accuracy: 0.9964 - loss: 0.0196 - val_accuracy: 0.9736 - val_loss: 0.0722\n",
      "Epoch 64/100\n",
      "7/7 - 0s - 12ms/step - accuracy: 0.9946 - loss: 0.0212 - val_accuracy: 0.9808 - val_loss: 0.0649\n",
      "Epoch 65/100\n",
      "7/7 - 0s - 11ms/step - accuracy: 0.9928 - loss: 0.0228 - val_accuracy: 0.9904 - val_loss: 0.0501\n",
      "Epoch 66/100\n",
      "7/7 - 0s - 11ms/step - accuracy: 0.9922 - loss: 0.0257 - val_accuracy: 0.9928 - val_loss: 0.0352\n",
      "Epoch 67/100\n",
      "7/7 - 0s - 11ms/step - accuracy: 0.9952 - loss: 0.0165 - val_accuracy: 0.9928 - val_loss: 0.0309\n",
      "Epoch 68/100\n",
      "7/7 - 0s - 9ms/step - accuracy: 0.9958 - loss: 0.0171 - val_accuracy: 0.9880 - val_loss: 0.0325\n",
      "Epoch 69/100\n",
      "7/7 - 0s - 11ms/step - accuracy: 0.9934 - loss: 0.0222 - val_accuracy: 0.9928 - val_loss: 0.0279\n",
      "Epoch 70/100\n",
      "7/7 - 0s - 10ms/step - accuracy: 0.9958 - loss: 0.0165 - val_accuracy: 1.0000 - val_loss: 0.0311\n",
      "Epoch 71/100\n",
      "7/7 - 0s - 9ms/step - accuracy: 0.9940 - loss: 0.0244 - val_accuracy: 0.9928 - val_loss: 0.0302\n",
      "Epoch 72/100\n",
      "7/7 - 0s - 9ms/step - accuracy: 0.9946 - loss: 0.0198 - val_accuracy: 0.9856 - val_loss: 0.0595\n",
      "Epoch 73/100\n",
      "7/7 - 0s - 9ms/step - accuracy: 0.9952 - loss: 0.0170 - val_accuracy: 0.9928 - val_loss: 0.0308\n",
      "Epoch 74/100\n",
      "7/7 - 0s - 12ms/step - accuracy: 0.9970 - loss: 0.0138 - val_accuracy: 0.9952 - val_loss: 0.0205\n",
      "Epoch 75/100\n",
      "7/7 - 0s - 9ms/step - accuracy: 0.9958 - loss: 0.0164 - val_accuracy: 0.9904 - val_loss: 0.0243\n",
      "Epoch 76/100\n",
      "7/7 - 0s - 9ms/step - accuracy: 0.9958 - loss: 0.0171 - val_accuracy: 0.9928 - val_loss: 0.0298\n",
      "Epoch 77/100\n",
      "7/7 - 0s - 9ms/step - accuracy: 0.9934 - loss: 0.0194 - val_accuracy: 0.9880 - val_loss: 0.0408\n",
      "Epoch 78/100\n",
      "7/7 - 0s - 9ms/step - accuracy: 0.9964 - loss: 0.0165 - val_accuracy: 0.9928 - val_loss: 0.0249\n",
      "Epoch 79/100\n",
      "7/7 - 0s - 11ms/step - accuracy: 0.9952 - loss: 0.0215 - val_accuracy: 0.9976 - val_loss: 0.0153\n",
      "Epoch 80/100\n",
      "7/7 - 0s - 9ms/step - accuracy: 0.9970 - loss: 0.0130 - val_accuracy: 0.9952 - val_loss: 0.0173\n",
      "Epoch 81/100\n",
      "7/7 - 0s - 9ms/step - accuracy: 0.9958 - loss: 0.0155 - val_accuracy: 0.9928 - val_loss: 0.0228\n",
      "Epoch 82/100\n",
      "7/7 - 0s - 9ms/step - accuracy: 0.9964 - loss: 0.0142 - val_accuracy: 0.9928 - val_loss: 0.0221\n",
      "Epoch 83/100\n",
      "7/7 - 0s - 9ms/step - accuracy: 0.9928 - loss: 0.0195 - val_accuracy: 0.9928 - val_loss: 0.0186\n",
      "Epoch 84/100\n",
      "7/7 - 0s - 12ms/step - accuracy: 0.9958 - loss: 0.0183 - val_accuracy: 1.0000 - val_loss: 0.0138\n",
      "Epoch 85/100\n",
      "7/7 - 0s - 9ms/step - accuracy: 0.9952 - loss: 0.0162 - val_accuracy: 0.9904 - val_loss: 0.0232\n",
      "Epoch 86/100\n",
      "7/7 - 0s - 12ms/step - accuracy: 0.9934 - loss: 0.0156 - val_accuracy: 1.0000 - val_loss: 0.0118\n",
      "Epoch 87/100\n",
      "7/7 - 0s - 11ms/step - accuracy: 0.9934 - loss: 0.0170 - val_accuracy: 0.9976 - val_loss: 0.0101\n",
      "Epoch 88/100\n",
      "7/7 - 0s - 8ms/step - accuracy: 0.9952 - loss: 0.0210 - val_accuracy: 0.9952 - val_loss: 0.0228\n",
      "Epoch 89/100\n",
      "7/7 - 0s - 9ms/step - accuracy: 0.9934 - loss: 0.0254 - val_accuracy: 0.9928 - val_loss: 0.0312\n",
      "Epoch 90/100\n",
      "7/7 - 0s - 8ms/step - accuracy: 0.9946 - loss: 0.0208 - val_accuracy: 0.9952 - val_loss: 0.0216\n",
      "Epoch 91/100\n",
      "7/7 - 0s - 9ms/step - accuracy: 0.9940 - loss: 0.0198 - val_accuracy: 1.0000 - val_loss: 0.0148\n",
      "Epoch 92/100\n",
      "7/7 - 0s - 9ms/step - accuracy: 0.9958 - loss: 0.0190 - val_accuracy: 0.9928 - val_loss: 0.0143\n",
      "Epoch 93/100\n",
      "7/7 - 0s - 8ms/step - accuracy: 0.9946 - loss: 0.0179 - val_accuracy: 0.9904 - val_loss: 0.0308\n",
      "Epoch 94/100\n",
      "7/7 - 0s - 9ms/step - accuracy: 0.9934 - loss: 0.0198 - val_accuracy: 0.9952 - val_loss: 0.0124\n",
      "Epoch 95/100\n",
      "7/7 - 0s - 9ms/step - accuracy: 0.9946 - loss: 0.0177 - val_accuracy: 0.9928 - val_loss: 0.0240\n",
      "Epoch 96/100\n",
      "7/7 - 0s - 11ms/step - accuracy: 0.9970 - loss: 0.0176 - val_accuracy: 0.9976 - val_loss: 0.0085\n",
      "Epoch 97/100\n",
      "7/7 - 0s - 9ms/step - accuracy: 0.9922 - loss: 0.0220 - val_accuracy: 0.9952 - val_loss: 0.0166\n",
      "Epoch 98/100\n",
      "7/7 - 0s - 9ms/step - accuracy: 0.9964 - loss: 0.0171 - val_accuracy: 0.9808 - val_loss: 0.0382\n",
      "Epoch 99/100\n",
      "7/7 - 0s - 9ms/step - accuracy: 0.9946 - loss: 0.0171 - val_accuracy: 0.9976 - val_loss: 0.0127\n",
      "Epoch 100/100\n",
      "7/7 - 0s - 9ms/step - accuracy: 0.9934 - loss: 0.0202 - val_accuracy: 1.0000 - val_loss: 0.0092\n"
     ]
    }
   ],
   "source": [
    "checkpoint = callbacks.ModelCheckpoint(\n",
    "    \"best_model.keras\", save_best_only=True, monitor='val_loss')\n",
    "\n",
    "history = model.fit(\n",
    "    X_train, y_train,\n",
    "    epochs=100,\n",
    "    batch_size=256,\n",
    "    validation_data=(X_val, y_val),\n",
    "    callbacks=[checkpoint],\n",
    "    verbose=2)\n"
   ]
  },
  {
   "cell_type": "markdown",
   "metadata": {},
   "source": [
    "## Evaluación"
   ]
  },
  {
   "cell_type": "code",
   "execution_count": 6,
   "metadata": {},
   "outputs": [
    {
     "name": "stdout",
     "output_type": "stream",
     "text": [
      "Accuracy en test: 0.939\n",
      "\u001b[1m46/46\u001b[0m \u001b[32m━━━━━━━━━━━━━━━━━━━━\u001b[0m\u001b[37m\u001b[0m \u001b[1m0s\u001b[0m 4ms/step\n",
      "[[332  22   0   0]\n",
      " [  5 378   0   0]\n",
      " [  5  29 449   4]\n",
      " [ 11   5   8 218]]\n",
      "                 precision    recall  f1-score   support\n",
      "\n",
      "BRAZOS_CRUZADOS       0.94      0.94      0.94       354\n",
      "         FIRMES       0.87      0.99      0.93       383\n",
      "           OTRO       0.98      0.92      0.95       487\n",
      " POSICION_FETAL       0.98      0.90      0.94       242\n",
      "\n",
      "       accuracy                           0.94      1466\n",
      "      macro avg       0.94      0.94      0.94      1466\n",
      "   weighted avg       0.94      0.94      0.94      1466\n",
      "\n"
     ]
    }
   ],
   "source": [
    "test_loss, test_acc = model.evaluate(X_test, Y_oh_test, verbose=0)\n",
    "print(f\"Accuracy en test: {test_acc:.3f}\")\n",
    "\n",
    "\n",
    "y_pred = model.predict(X_test)\n",
    "cm = confusion_matrix(Y_oh_test.argmax(1), y_pred.argmax(1))\n",
    "print(cm)\n",
    "print(classification_report(Y_oh_test.argmax(1), y_pred.argmax(1), target_names=poses_lb.classes_))\n",
    "\n",
    "#Distancia cosenoidal entre los datos (Por cada clase)\n",
    "#Tomar 10 frames de cada segundo"
   ]
  },
  {
   "cell_type": "markdown",
   "metadata": {},
   "source": [
    "## Graficas de resultados"
   ]
  },
  {
   "cell_type": "code",
   "execution_count": 7,
   "metadata": {},
   "outputs": [
    {
     "data": {
      "image/png": "[encoded data removed]",
      "text/plain": [
       "<Figure size 640x480 with 1 Axes>"
      ]
     },
     "metadata": {},
     "output_type": "display_data"
    },
    {
     "data": {
      "image/png": "[encoded data removed]",
      "text/plain": [
       "<Figure size 640x480 with 1 Axes>"
      ]
     },
     "metadata": {},
     "output_type": "display_data"
    }
   ],
   "source": [
    "#Evaluar resultados\n",
    "plt.plot(history.history['accuracy'])\n",
    "plt.plot(history.history['val_accuracy'])\n",
    "plt.title('Precision del modelo')\n",
    "plt.ylabel('Precision')\n",
    "plt.xlabel('Epoch')\n",
    "plt.legend(['Train', 'Test'], loc='upper left')\n",
    "plt.show()\n",
    "\n",
    "#Funcion de perdida\n",
    "plt.plot(history.history['loss'])\n",
    "plt.plot(history.history['val_loss'])\n",
    "plt.title('Funcion de perdida del modelo')\n",
    "plt.ylabel('Funcion de perdida')\n",
    "plt.xlabel('Epoch')\n",
    "plt.legend(['Train', 'Test'], loc='upper left')\n",
    "plt.show()"
   ]
  },
  {
   "cell_type": "markdown",
   "metadata": {},
   "source": [
    "## Uso del modelo para predicción"
   ]
  },
  {
   "cell_type": "code",
   "execution_count": 14,
   "metadata": {},
   "outputs": [
    {
     "name": "stderr",
     "output_type": "stream",
     "text": [
      "I0000 00:00:1752702286.309830   78605 gl_context_egl.cc:85] Successfully initialized EGL. Major : 1 Minor: 5\n",
      "I0000 00:00:1752702286.332338   94098 gl_context.cc:369] GL version: 3.2 (OpenGL ES 3.2 NVIDIA 550.144.03), renderer: NVIDIA GeForce RTX 4060 Laptop GPU/PCIe/SSE2\n",
      "W0000 00:00:1752702286.367786   94067 inference_feedback_manager.cc:114] Feedback manager requires a model with a single signature inference. Disabling support for feedback tensors.\n",
      "W0000 00:00:1752702286.436751   94085 inference_feedback_manager.cc:114] Feedback manager requires a model with a single signature inference. Disabling support for feedback tensors.\n"
     ]
    },
    {
     "name": "stdout",
     "output_type": "stream",
     "text": [
      "Analizando Imagen\n",
      "\u001b[1m1/1\u001b[0m \u001b[32m━━━━━━━━━━━━━━━━━━━━\u001b[0m\u001b[37m\u001b[0m \u001b[1m0s\u001b[0m 19ms/step\n",
      "[[9.9996591e-01 2.0055343e-06 3.2124466e-05 4.5192348e-08]]\n",
      "['BRAZOS_CRUZADOS']\n"
     ]
    }
   ],
   "source": [
    "from ExtraeFrame import IMAGEN\n",
    "\n",
    "imagen=IMAGEN(\"Fotos/foto8.jpeg\")\n",
    "x_new=imagen.extrae(muestra=True)\n",
    "x_new=np.array([x_new])\n",
    "\n",
    "prediccion  = model.predict(x_new)\n",
    "print (prediccion)\n",
    "label  = poses_lb.inverse_transform(prediccion)\n",
    "print(label)\n"
   ]
  }
 ],
 "metadata": {
  "kernelspec": {
   "display_name": "timelessTuring",
   "language": "python",
   "name": "python3"
  },
  "language_info": {
   "codemirror_mode": {
    "name": "ipython",
    "version": 3
   },
   "file_extension": ".py",
   "mimetype": "text/x-python",
   "name": "python",
   "nbconvert_exporter": "python",
   "pygments_lexer": "ipython3",
   "version": "3.10.16"
  }
 },
 "nbformat": 4,
 "nbformat_minor": 2
}
