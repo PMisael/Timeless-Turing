{
 "cells": [
  {
   "cell_type": "markdown",
   "metadata": {},
   "source": [
    "# Red neuronal para predecir poses"
   ]
  },
  {
   "cell_type": "markdown",
   "metadata": {},
   "source": [
    "## Importar librerias"
   ]
  },
  {
   "cell_type": "code",
   "execution_count": 1,
   "metadata": {},
   "outputs": [
    {
     "name": "stderr",
     "output_type": "stream",
     "text": [
      "2025-07-13 15:14:44.257094: I tensorflow/core/util/port.cc:153] oneDNN custom operations are on. You may see slightly different numerical results due to floating-point round-off errors from different computation orders. To turn them off, set the environment variable `TF_ENABLE_ONEDNN_OPTS=0`.\n",
      "2025-07-13 15:14:44.266167: E external/local_xla/xla/stream_executor/cuda/cuda_fft.cc:467] Unable to register cuFFT factory: Attempting to register factory for plugin cuFFT when one has already been registered\n",
      "WARNING: All log messages before absl::InitializeLog() is called are written to STDERR\n",
      "E0000 00:00:1752441284.276455    7596 cuda_dnn.cc:8579] Unable to register cuDNN factory: Attempting to register factory for plugin cuDNN when one has already been registered\n",
      "E0000 00:00:1752441284.279797    7596 cuda_blas.cc:1407] Unable to register cuBLAS factory: Attempting to register factory for plugin cuBLAS when one has already been registered\n",
      "W0000 00:00:1752441284.287888    7596 computation_placer.cc:177] computation placer already registered. Please check linkage and avoid linking the same target more than once.\n",
      "W0000 00:00:1752441284.287898    7596 computation_placer.cc:177] computation placer already registered. Please check linkage and avoid linking the same target more than once.\n",
      "W0000 00:00:1752441284.287899    7596 computation_placer.cc:177] computation placer already registered. Please check linkage and avoid linking the same target more than once.\n",
      "W0000 00:00:1752441284.287900    7596 computation_placer.cc:177] computation placer already registered. Please check linkage and avoid linking the same target more than once.\n",
      "2025-07-13 15:14:44.290693: I tensorflow/core/platform/cpu_feature_guard.cc:210] This TensorFlow binary is optimized to use available CPU instructions in performance-critical operations.\n",
      "To enable the following instructions: AVX2 AVX_VNNI FMA, in other operations, rebuild TensorFlow with the appropriate compiler flags.\n"
     ]
    }
   ],
   "source": [
    "import pandas as pd\n",
    "import numpy as np\n",
    "import os\n",
    "from matplotlib import pyplot as plt\n",
    "\n",
    "from keras import layers,callbacks\n",
    "from keras.models import Sequential, load_model\n",
    "from keras.optimizers import Adam\n",
    "\n",
    "from sklearn.preprocessing import LabelBinarizer\n",
    "from sklearn.model_selection import train_test_split\n",
    "from sklearn.metrics import confusion_matrix, classification_report"
   ]
  },
  {
   "cell_type": "markdown",
   "metadata": {},
   "source": [
    "## Preparar datos"
   ]
  },
  {
   "cell_type": "code",
   "execution_count": 2,
   "metadata": {},
   "outputs": [],
   "source": [
    "Carpeta=\"Dataset\"\n",
    "Salida=\"posiciones.csv\"\n",
    "#\n",
    "# Unir los csvs para hacer uno solo\n",
    "csvs=[os.path.join(Carpeta,f) for f in os.listdir(Carpeta) if f!=Salida]\n",
    "#print(csvs)\n",
    "df=pd.concat((pd.read_csv(f) for f in csvs),ignore_index=True)\n",
    "df.to_csv(os.path.join(Carpeta,Salida), index=False, float_format=\"%.6f\")\n",
    "\n",
    "#print(df)\n",
    "\n",
    "X= df.drop(columns=['label'])\n",
    "Y= df['label']\n",
    "\n",
    "poses_lb=LabelBinarizer()\n",
    "Y_one_hot= poses_lb.fit_transform(Y)\n",
    "#print(Y_one_hot)"
   ]
  },
  {
   "cell_type": "markdown",
   "metadata": {},
   "source": [
    "## Dividir datos en:\n",
    "* Entrenamiento = 70%\n",
    "* Validación = 15%\n",
    "* Prueba = 15%"
   ]
  },
  {
   "cell_type": "code",
   "execution_count": 3,
   "metadata": {},
   "outputs": [],
   "source": [
    "X_train, X_temp, y_train, y_temp = train_test_split(\n",
    "    X, Y_one_hot, test_size=0.30, stratify=Y, random_state=42)\n",
    "X_val, X_test, y_val, y_test = train_test_split(\n",
    "    X_temp, y_temp, test_size=0.50, stratify=y_temp.argmax(1), random_state=42)"
   ]
  },
  {
   "cell_type": "markdown",
   "metadata": {},
   "source": [
    "## Definicion y compilacion de Red Neuronal"
   ]
  },
  {
   "cell_type": "code",
   "execution_count": 4,
   "metadata": {},
   "outputs": [
    {
     "name": "stderr",
     "output_type": "stream",
     "text": [
      "I0000 00:00:1752441286.484673    7596 gpu_device.cc:2019] Created device /job:localhost/replica:0/task:0/device:GPU:0 with 4968 MB memory:  -> device: 0, name: NVIDIA GeForce RTX 4060 Laptop GPU, pci bus id: 0000:01:00.0, compute capability: 8.9\n"
     ]
    }
   ],
   "source": [
    "n_features = X_train.shape[1]   # 36 o 99\n",
    "n_classes  = y_train.shape[1]\n",
    "#print(n_features,n_classes)\n",
    "#\n",
    "model = Sequential([\n",
    "    layers.Input( shape=(n_features,)),\n",
    "    layers.Dense(128, activation='relu'),\n",
    "    layers.BatchNormalization(),\n",
    "    layers.Dropout(0.30),\n",
    "    layers.Dense(64, activation='relu'),\n",
    "    layers.BatchNormalization(),\n",
    "    layers.Dropout(0.30),\n",
    "    layers.Dense(n_classes, activation='softmax')\n",
    "])\n",
    "model.compile(\n",
    "    optimizer=Adam(learning_rate=1e-3),\n",
    "    loss='categorical_crossentropy',\n",
    "    metrics=['accuracy'])"
   ]
  },
  {
   "cell_type": "markdown",
   "metadata": {},
   "source": [
    "## Entrenamiento"
   ]
  },
  {
   "cell_type": "code",
   "execution_count": 5,
   "metadata": {},
   "outputs": [
    {
     "name": "stdout",
     "output_type": "stream",
     "text": [
      "Epoch 1/50\n"
     ]
    },
    {
     "name": "stderr",
     "output_type": "stream",
     "text": [
      "WARNING: All log messages before absl::InitializeLog() is called are written to STDERR\n",
      "I0000 00:00:1752441287.853925    7755 service.cc:152] XLA service 0x7096c8002d20 initialized for platform CUDA (this does not guarantee that XLA will be used). Devices:\n",
      "I0000 00:00:1752441287.853943    7755 service.cc:160]   StreamExecutor device (0): NVIDIA GeForce RTX 4060 Laptop GPU, Compute Capability 8.9\n",
      "2025-07-13 15:14:47.881152: I tensorflow/compiler/mlir/tensorflow/utils/dump_mlir_util.cc:269] disabling MLIR crash reproducer, set env var `MLIR_CRASH_REPRODUCER_DIRECTORY` to enable.\n",
      "I0000 00:00:1752441288.029875    7755 cuda_dnn.cc:529] Loaded cuDNN version 90300\n",
      "I0000 00:00:1752441290.031781    7755 device_compiler.h:188] Compiled cluster using XLA!  This line is logged at most once for the lifetime of the process.\n"
     ]
    },
    {
     "name": "stdout",
     "output_type": "stream",
     "text": [
      "22/22 - 5s - 244ms/step - accuracy: 0.6980 - loss: 0.8049 - val_accuracy: 0.6465 - val_loss: 1.1484\n",
      "Epoch 2/50\n",
      "22/22 - 0s - 9ms/step - accuracy: 0.9190 - loss: 0.2594 - val_accuracy: 0.6934 - val_loss: 1.0001\n",
      "Epoch 3/50\n",
      "22/22 - 0s - 9ms/step - accuracy: 0.9619 - loss: 0.1426 - val_accuracy: 0.8066 - val_loss: 0.8891\n",
      "Epoch 4/50\n",
      "22/22 - 0s - 9ms/step - accuracy: 0.9741 - loss: 0.0965 - val_accuracy: 0.7905 - val_loss: 0.7927\n",
      "Epoch 5/50\n",
      "22/22 - 0s - 8ms/step - accuracy: 0.9825 - loss: 0.0698 - val_accuracy: 0.5750 - val_loss: 0.8033\n",
      "Epoch 6/50\n",
      "22/22 - 0s - 9ms/step - accuracy: 0.9872 - loss: 0.0558 - val_accuracy: 0.5911 - val_loss: 0.7372\n",
      "Epoch 7/50\n",
      "22/22 - 0s - 9ms/step - accuracy: 0.9898 - loss: 0.0470 - val_accuracy: 0.6533 - val_loss: 0.6617\n",
      "Epoch 8/50\n",
      "22/22 - 0s - 9ms/step - accuracy: 0.9934 - loss: 0.0358 - val_accuracy: 0.6925 - val_loss: 0.5963\n",
      "Epoch 9/50\n",
      "22/22 - 0s - 9ms/step - accuracy: 0.9932 - loss: 0.0286 - val_accuracy: 0.7036 - val_loss: 0.5627\n",
      "Epoch 10/50\n",
      "22/22 - 0s - 8ms/step - accuracy: 0.9958 - loss: 0.0241 - val_accuracy: 0.6414 - val_loss: 0.6377\n",
      "Epoch 11/50\n",
      "22/22 - 0s - 8ms/step - accuracy: 0.9958 - loss: 0.0237 - val_accuracy: 0.7871 - val_loss: 0.4293\n",
      "Epoch 12/50\n",
      "22/22 - 0s - 8ms/step - accuracy: 0.9949 - loss: 0.0230 - val_accuracy: 0.7061 - val_loss: 0.5111\n",
      "Epoch 13/50\n",
      "22/22 - 0s - 8ms/step - accuracy: 0.9965 - loss: 0.0204 - val_accuracy: 0.9123 - val_loss: 0.2799\n",
      "Epoch 14/50\n",
      "22/22 - 0s - 8ms/step - accuracy: 0.9969 - loss: 0.0166 - val_accuracy: 0.8859 - val_loss: 0.3072\n",
      "Epoch 15/50\n",
      "22/22 - 0s - 9ms/step - accuracy: 0.9962 - loss: 0.0175 - val_accuracy: 0.9923 - val_loss: 0.1122\n",
      "Epoch 16/50\n",
      "22/22 - 0s - 8ms/step - accuracy: 0.9969 - loss: 0.0161 - val_accuracy: 0.9557 - val_loss: 0.1471\n",
      "Epoch 17/50\n",
      "22/22 - 0s - 8ms/step - accuracy: 0.9973 - loss: 0.0154 - val_accuracy: 0.9583 - val_loss: 0.1317\n",
      "Epoch 18/50\n",
      "22/22 - 0s - 8ms/step - accuracy: 0.9973 - loss: 0.0130 - val_accuracy: 0.9370 - val_loss: 0.1689\n",
      "Epoch 19/50\n",
      "22/22 - 0s - 9ms/step - accuracy: 0.9980 - loss: 0.0116 - val_accuracy: 0.9642 - val_loss: 0.0801\n",
      "Epoch 20/50\n",
      "22/22 - 0s - 10ms/step - accuracy: 0.9973 - loss: 0.0104 - val_accuracy: 0.9974 - val_loss: 0.0312\n",
      "Epoch 21/50\n",
      "22/22 - 0s - 8ms/step - accuracy: 0.9985 - loss: 0.0092 - val_accuracy: 0.9855 - val_loss: 0.0472\n",
      "Epoch 22/50\n",
      "22/22 - 0s - 8ms/step - accuracy: 0.9976 - loss: 0.0101 - val_accuracy: 0.9923 - val_loss: 0.0553\n",
      "Epoch 23/50\n",
      "22/22 - 0s - 9ms/step - accuracy: 0.9980 - loss: 0.0086 - val_accuracy: 0.9974 - val_loss: 0.0225\n",
      "Epoch 24/50\n",
      "22/22 - 0s - 9ms/step - accuracy: 0.9976 - loss: 0.0114 - val_accuracy: 0.9983 - val_loss: 0.0155\n",
      "Epoch 25/50\n",
      "22/22 - 0s - 9ms/step - accuracy: 0.9978 - loss: 0.0102 - val_accuracy: 1.0000 - val_loss: 0.0084\n",
      "Epoch 26/50\n",
      "22/22 - 0s - 8ms/step - accuracy: 0.9980 - loss: 0.0094 - val_accuracy: 0.9966 - val_loss: 0.0149\n",
      "Epoch 27/50\n",
      "22/22 - 0s - 9ms/step - accuracy: 0.9980 - loss: 0.0092 - val_accuracy: 1.0000 - val_loss: 0.0034\n",
      "Epoch 28/50\n",
      "22/22 - 0s - 8ms/step - accuracy: 0.9982 - loss: 0.0076 - val_accuracy: 0.9949 - val_loss: 0.0228\n",
      "Epoch 29/50\n",
      "22/22 - 0s - 8ms/step - accuracy: 0.9987 - loss: 0.0076 - val_accuracy: 0.9949 - val_loss: 0.0175\n",
      "Epoch 30/50\n",
      "22/22 - 0s - 7ms/step - accuracy: 0.9989 - loss: 0.0064 - val_accuracy: 0.9923 - val_loss: 0.0290\n",
      "Epoch 31/50\n",
      "22/22 - 0s - 7ms/step - accuracy: 0.9973 - loss: 0.0108 - val_accuracy: 1.0000 - val_loss: 0.0043\n",
      "Epoch 32/50\n",
      "22/22 - 0s - 9ms/step - accuracy: 0.9987 - loss: 0.0073 - val_accuracy: 1.0000 - val_loss: 0.0019\n",
      "Epoch 33/50\n",
      "22/22 - 0s - 7ms/step - accuracy: 0.9984 - loss: 0.0091 - val_accuracy: 1.0000 - val_loss: 0.0037\n",
      "Epoch 34/50\n",
      "22/22 - 0s - 9ms/step - accuracy: 0.9978 - loss: 0.0080 - val_accuracy: 1.0000 - val_loss: 0.0014\n",
      "Epoch 35/50\n",
      "22/22 - 0s - 9ms/step - accuracy: 0.9985 - loss: 0.0071 - val_accuracy: 1.0000 - val_loss: 9.9547e-04\n",
      "Epoch 36/50\n",
      "22/22 - 0s - 8ms/step - accuracy: 0.9978 - loss: 0.0079 - val_accuracy: 1.0000 - val_loss: 0.0015\n",
      "Epoch 37/50\n",
      "22/22 - 0s - 7ms/step - accuracy: 0.9974 - loss: 0.0101 - val_accuracy: 1.0000 - val_loss: 0.0021\n",
      "Epoch 38/50\n",
      "22/22 - 0s - 7ms/step - accuracy: 0.9985 - loss: 0.0071 - val_accuracy: 0.9991 - val_loss: 0.0065\n",
      "Epoch 39/50\n",
      "22/22 - 0s - 7ms/step - accuracy: 0.9980 - loss: 0.0093 - val_accuracy: 1.0000 - val_loss: 0.0022\n",
      "Epoch 40/50\n",
      "22/22 - 0s - 7ms/step - accuracy: 0.9985 - loss: 0.0070 - val_accuracy: 1.0000 - val_loss: 0.0021\n",
      "Epoch 41/50\n",
      "22/22 - 0s - 8ms/step - accuracy: 0.9982 - loss: 0.0079 - val_accuracy: 1.0000 - val_loss: 9.8113e-04\n",
      "Epoch 42/50\n",
      "22/22 - 0s - 7ms/step - accuracy: 0.9984 - loss: 0.0072 - val_accuracy: 1.0000 - val_loss: 0.0020\n",
      "Epoch 43/50\n",
      "22/22 - 0s - 7ms/step - accuracy: 0.9995 - loss: 0.0060 - val_accuracy: 1.0000 - val_loss: 0.0012\n",
      "Epoch 44/50\n",
      "22/22 - 0s - 8ms/step - accuracy: 0.9987 - loss: 0.0060 - val_accuracy: 1.0000 - val_loss: 0.0028\n",
      "Epoch 45/50\n",
      "22/22 - 0s - 9ms/step - accuracy: 0.9987 - loss: 0.0058 - val_accuracy: 1.0000 - val_loss: 5.8569e-04\n",
      "Epoch 46/50\n",
      "22/22 - 0s - 7ms/step - accuracy: 0.9976 - loss: 0.0067 - val_accuracy: 1.0000 - val_loss: 5.9317e-04\n",
      "Epoch 47/50\n",
      "22/22 - 0s - 7ms/step - accuracy: 0.9989 - loss: 0.0054 - val_accuracy: 0.9974 - val_loss: 0.0086\n",
      "Epoch 48/50\n",
      "22/22 - 0s - 7ms/step - accuracy: 0.9989 - loss: 0.0065 - val_accuracy: 1.0000 - val_loss: 0.0059\n",
      "Epoch 49/50\n",
      "22/22 - 0s - 7ms/step - accuracy: 0.9995 - loss: 0.0038 - val_accuracy: 0.9949 - val_loss: 0.0218\n",
      "Epoch 50/50\n",
      "22/22 - 0s - 7ms/step - accuracy: 0.9984 - loss: 0.0059 - val_accuracy: 0.9991 - val_loss: 0.0036\n"
     ]
    }
   ],
   "source": [
    "checkpoint = callbacks.ModelCheckpoint(\n",
    "    \"best_model.keras\", save_best_only=True, monitor='val_loss')\n",
    "\n",
    "history = model.fit(\n",
    "    X_train, y_train,\n",
    "    epochs=50,\n",
    "    batch_size=256,\n",
    "    validation_data=(X_val, y_val),\n",
    "    callbacks=[checkpoint],\n",
    "    verbose=2)\n"
   ]
  },
  {
   "cell_type": "markdown",
   "metadata": {},
   "source": [
    "## Evaluación"
   ]
  },
  {
   "cell_type": "code",
   "execution_count": 6,
   "metadata": {},
   "outputs": [
    {
     "name": "stdout",
     "output_type": "stream",
     "text": [
      "Accuracy en test: 0.998\n",
      "\u001b[1m37/37\u001b[0m \u001b[32m━━━━━━━━━━━━━━━━━━━━\u001b[0m\u001b[37m\u001b[0m \u001b[1m0s\u001b[0m 7ms/step\n",
      "[[292   0   0   0]\n",
      " [  0 300   0   0]\n",
      " [  0   2 437   0]\n",
      " [  0   0   0 144]]\n",
      "                 precision    recall  f1-score   support\n",
      "\n",
      "Brazos cruzados       1.00      1.00      1.00       292\n",
      "         Firmes       0.99      1.00      1.00       300\n",
      "           Otra       1.00      1.00      1.00       439\n",
      " Posicion fetal       1.00      1.00      1.00       144\n",
      "\n",
      "       accuracy                           1.00      1175\n",
      "      macro avg       1.00      1.00      1.00      1175\n",
      "   weighted avg       1.00      1.00      1.00      1175\n",
      "\n"
     ]
    }
   ],
   "source": [
    "test_loss, test_acc = model.evaluate(X_test, y_test, verbose=0)\n",
    "print(f\"Accuracy en test: {test_acc:.3f}\")\n",
    "\n",
    "\n",
    "y_pred = model.predict(X_test)\n",
    "cm = confusion_matrix(y_test.argmax(1), y_pred.argmax(1))\n",
    "print(cm)\n",
    "print(classification_report(y_test.argmax(1), y_pred.argmax(1), target_names=poses_lb.classes_))\n",
    "\n",
    "#Distancia cosenoidal entre los datos (Por cada clase)\n",
    "#Tomar 10 frames de cada segundo"
   ]
  },
  {
   "cell_type": "markdown",
   "metadata": {},
   "source": [
    "## Graficas de resultados"
   ]
  },
  {
   "cell_type": "code",
   "execution_count": 7,
   "metadata": {},
   "outputs": [
    {
     "data": {
      "image/png": "[encoded data removed]",
      "text/plain": [
       "<Figure size 640x480 with 1 Axes>"
      ]
     },
     "metadata": {},
     "output_type": "display_data"
    },
    {
     "data": {
      "image/png": "[encoded data removed]",
      "text/plain": [
       "<Figure size 640x480 with 1 Axes>"
      ]
     },
     "metadata": {},
     "output_type": "display_data"
    }
   ],
   "source": [
    "#Evaluar resultados\n",
    "plt.plot(history.history['accuracy'])\n",
    "plt.plot(history.history['val_accuracy'])\n",
    "plt.title('Precision del modelo')\n",
    "plt.ylabel('Precision')\n",
    "plt.xlabel('Epoch')\n",
    "plt.legend(['Train', 'Test'], loc='upper left')\n",
    "plt.show()\n",
    "\n",
    "#Funcion de perdida\n",
    "plt.plot(history.history['loss'])\n",
    "plt.plot(history.history['val_loss'])\n",
    "plt.title('Funcion de perdida del modelo')\n",
    "plt.ylabel('Funcion de perdida')\n",
    "plt.xlabel('Epoch')\n",
    "plt.legend(['Train', 'Test'], loc='upper left')\n",
    "plt.show()"
   ]
  },
  {
   "cell_type": "markdown",
   "metadata": {},
   "source": [
    "## Uso del modelo para predicción"
   ]
  },
  {
   "cell_type": "code",
   "execution_count": 10,
   "metadata": {},
   "outputs": [
    {
     "name": "stderr",
     "output_type": "stream",
     "text": [
      "I0000 00:00:1752441384.240331    7596 gl_context_egl.cc:85] Successfully initialized EGL. Major : 1 Minor: 5\n",
      "I0000 00:00:1752441384.268619   15482 gl_context.cc:369] GL version: 3.2 (OpenGL ES 3.2 NVIDIA 550.144.03), renderer: NVIDIA GeForce RTX 4060 Laptop GPU/PCIe/SSE2\n",
      "W0000 00:00:1752441384.316068   15457 inference_feedback_manager.cc:114] Feedback manager requires a model with a single signature inference. Disabling support for feedback tensors.\n",
      "W0000 00:00:1752441384.404346   15477 inference_feedback_manager.cc:114] Feedback manager requires a model with a single signature inference. Disabling support for feedback tensors.\n"
     ]
    },
    {
     "name": "stdout",
     "output_type": "stream",
     "text": [
      "[0.5151408314704895, 0.12388980388641357, -0.410516619682312, 0.5371013283729553, 0.1047186627984047, -0.3877306282520294, 0.5505034923553467, 0.10574290156364441, -0.38851264119148254, 0.5636589527130127, 0.10710403323173523, -0.3885844349861145, 0.49591076374053955, 0.1035374104976654, -0.38556450605392456, 0.4818163514137268, 0.10378342866897583, -0.38649782538414, 0.4687800407409668, 0.10462590306997299, -0.38691848516464233, 0.585877537727356, 0.1164318323135376, -0.22288668155670166, 0.45612475275993347, 0.11411122232675552, -0.21174876391887665, 0.5416460633277893, 0.14955028891563416, -0.34008732438087463, 0.489414781332016, 0.14697346091270447, -0.34194865822792053, 0.6683605909347534, 0.24311676621437073, -0.17290817201137543, 0.36942413449287415, 0.23792731761932373, -0.07363874465227127, 0.719523012638092, 0.40645524859428406, -0.11123038083314896, 0.31252771615982056, 0.3818463087081909, -0.09619522839784622, 0.7392994165420532, 0.5513121485710144, -0.16479921340942383, 0.252131849527359, 0.507148802280426, -0.20687104761600494, 0.7479687929153442, 0.5996686816215515, -0.18821196258068085, 0.23696088790893555, 0.5397340655326843, -0.23126395046710968, 0.7189615368843079, 0.5986079573631287, -0.25082236528396606, 0.24448131024837494, 0.5430238842964172, -0.3013392984867096, 0.703032910823822, 0.5819085836410522, -0.18700212240219116, 0.2570757269859314, 0.5337162017822266, -0.2398281842470169, 0.5814580917358398, 0.5309526920318604, -0.028263380751013756, 0.41523614525794983, 0.5270905494689941, 0.02748740464448929, 0.5493437051773071, 0.7367614507675171, 0.0204500462859869, 0.3446553349494934, 0.7411483526229858, -0.09243220090866089, 0.505931556224823, 0.8944463133811951, 0.2637535333633423, 0.3534472584724426, 0.907030463218689, 0.0495900996029377, 0.4752224385738373, 0.9178003668785095, 0.2742636799812317, 0.38315626978874207, 0.9334830641746521, 0.056911613792181015, 0.5534497499465942, 0.9728095531463623, 0.12244337797164917, 0.2616220712661743, 0.9814547300338745, -0.09418142586946487]\n",
      "1\n",
      "\u001b[1m1/1\u001b[0m \u001b[32m━━━━━━━━━━━━━━━━━━━━\u001b[0m\u001b[37m\u001b[0m \u001b[1m0s\u001b[0m 26ms/step\n",
      "[[2.4587712e-07 6.2707458e-03 9.9372876e-01 2.9704270e-07]]\n",
      "['Otra']\n"
     ]
    }
   ],
   "source": [
    "import imageLandmarks\n",
    "\n",
    "imagen=imageLandmarks.IMAGEN(\"Fotos/image.png\")\n",
    "imagen.process(True)\n",
    "x_new=imagen.extrae_frames()\n",
    "x_new=np.array([x_new])\n",
    "print(len(x_new))\n",
    "\n",
    "prediccion  = model.predict(x_new)\n",
    "print (prediccion)\n",
    "label  = poses_lb.inverse_transform(prediccion)\n",
    "print(label)\n"
   ]
  }
 ],
 "metadata": {
  "kernelspec": {
   "display_name": "timelessTuring",
   "language": "python",
   "name": "python3"
  },
  "language_info": {
   "codemirror_mode": {
    "name": "ipython",
    "version": 3
   },
   "file_extension": ".py",
   "mimetype": "text/x-python",
   "name": "python",
   "nbconvert_exporter": "python",
   "pygments_lexer": "ipython3",
   "version": "3.10.16"
  }
 },
 "nbformat": 4,
 "nbformat_minor": 2
}
